{
 "cells": [
  {
   "cell_type": "code",
   "execution_count": 1,
   "id": "8c468a31",
   "metadata": {},
   "outputs": [],
   "source": [
    "from sklearn.neighbors import KNeighborsClassifier\n",
    "from sklearn.tree import DecisionTreeClassifier\n",
    "from sklearn.ensemble import RandomForestClassifier\n",
    "from sklearn. linear_model import LogisticRegression\n",
    "from sklearn.model_selection import train_test_split, cross_val_score, GridSearchCV\n",
    "from sklearn.preprocessing import StandardScaler\n",
    "from sklearn.dummy import DummyClassifier\n",
    "from sklearn.metrics import precision_score, recall_score, accuracy_score, roc_auc_score, confusion_matrix,\\\n",
    "precision_recall_curve, f1_score,roc_curve, log_loss,SCORERS, fbeta_score, make_scorer\n",
    "\n",
    "import pandas as pd\n",
    "import matplotlib.pyplot as plt\n",
    "import seaborn as sns\n",
    "import numpy as np\n",
    "import warnings\n",
    "warnings.filterwarnings(\"ignore\")"
   ]
  },
  {
   "cell_type": "markdown",
   "id": "00a48001",
   "metadata": {},
   "source": [
    "Import data"
   ]
  },
  {
   "cell_type": "code",
   "execution_count": 2,
   "id": "f10ca4c9",
   "metadata": {},
   "outputs": [],
   "source": [
    "df = pd.read_csv('Churn_Eng_Data.csv', index_col = 0)"
   ]
  },
  {
   "cell_type": "code",
   "execution_count": 3,
   "id": "0c349d43",
   "metadata": {},
   "outputs": [
    {
     "data": {
      "text/html": [
       "<div>\n",
       "<style scoped>\n",
       "    .dataframe tbody tr th:only-of-type {\n",
       "        vertical-align: middle;\n",
       "    }\n",
       "\n",
       "    .dataframe tbody tr th {\n",
       "        vertical-align: top;\n",
       "    }\n",
       "\n",
       "    .dataframe thead th {\n",
       "        text-align: right;\n",
       "    }\n",
       "</style>\n",
       "<table border=\"1\" class=\"dataframe\">\n",
       "  <thead>\n",
       "    <tr style=\"text-align: right;\">\n",
       "      <th></th>\n",
       "      <th>CustomerId</th>\n",
       "      <th>Surname</th>\n",
       "      <th>CreditScore</th>\n",
       "      <th>Geography</th>\n",
       "      <th>Gender</th>\n",
       "      <th>Age</th>\n",
       "      <th>Tenure</th>\n",
       "      <th>Balance</th>\n",
       "      <th>NumOfProducts</th>\n",
       "      <th>HasCrCard</th>\n",
       "      <th>IsActiveMember</th>\n",
       "      <th>EstimatedSalary</th>\n",
       "      <th>New_Balance</th>\n",
       "      <th>Exited</th>\n",
       "    </tr>\n",
       "    <tr>\n",
       "      <th>RowNumber</th>\n",
       "      <th></th>\n",
       "      <th></th>\n",
       "      <th></th>\n",
       "      <th></th>\n",
       "      <th></th>\n",
       "      <th></th>\n",
       "      <th></th>\n",
       "      <th></th>\n",
       "      <th></th>\n",
       "      <th></th>\n",
       "      <th></th>\n",
       "      <th></th>\n",
       "      <th></th>\n",
       "      <th></th>\n",
       "    </tr>\n",
       "  </thead>\n",
       "  <tbody>\n",
       "    <tr>\n",
       "      <th>1</th>\n",
       "      <td>15634602</td>\n",
       "      <td>Hargrave</td>\n",
       "      <td>619</td>\n",
       "      <td>France</td>\n",
       "      <td>Female</td>\n",
       "      <td>42</td>\n",
       "      <td>2</td>\n",
       "      <td>0.00</td>\n",
       "      <td>1</td>\n",
       "      <td>1</td>\n",
       "      <td>1</td>\n",
       "      <td>101348.88</td>\n",
       "      <td>Zero</td>\n",
       "      <td>1</td>\n",
       "    </tr>\n",
       "    <tr>\n",
       "      <th>2</th>\n",
       "      <td>15647311</td>\n",
       "      <td>Hill</td>\n",
       "      <td>608</td>\n",
       "      <td>Spain</td>\n",
       "      <td>Female</td>\n",
       "      <td>41</td>\n",
       "      <td>1</td>\n",
       "      <td>83807.86</td>\n",
       "      <td>1</td>\n",
       "      <td>0</td>\n",
       "      <td>1</td>\n",
       "      <td>112542.58</td>\n",
       "      <td>Mid</td>\n",
       "      <td>0</td>\n",
       "    </tr>\n",
       "    <tr>\n",
       "      <th>3</th>\n",
       "      <td>15619304</td>\n",
       "      <td>Onio</td>\n",
       "      <td>502</td>\n",
       "      <td>France</td>\n",
       "      <td>Female</td>\n",
       "      <td>42</td>\n",
       "      <td>8</td>\n",
       "      <td>159660.80</td>\n",
       "      <td>3</td>\n",
       "      <td>1</td>\n",
       "      <td>0</td>\n",
       "      <td>113931.57</td>\n",
       "      <td>High</td>\n",
       "      <td>1</td>\n",
       "    </tr>\n",
       "    <tr>\n",
       "      <th>4</th>\n",
       "      <td>15701354</td>\n",
       "      <td>Boni</td>\n",
       "      <td>699</td>\n",
       "      <td>France</td>\n",
       "      <td>Female</td>\n",
       "      <td>39</td>\n",
       "      <td>1</td>\n",
       "      <td>0.00</td>\n",
       "      <td>2</td>\n",
       "      <td>0</td>\n",
       "      <td>0</td>\n",
       "      <td>93826.63</td>\n",
       "      <td>Zero</td>\n",
       "      <td>0</td>\n",
       "    </tr>\n",
       "    <tr>\n",
       "      <th>5</th>\n",
       "      <td>15737888</td>\n",
       "      <td>Mitchell</td>\n",
       "      <td>850</td>\n",
       "      <td>Spain</td>\n",
       "      <td>Female</td>\n",
       "      <td>43</td>\n",
       "      <td>2</td>\n",
       "      <td>125510.82</td>\n",
       "      <td>1</td>\n",
       "      <td>1</td>\n",
       "      <td>1</td>\n",
       "      <td>79084.10</td>\n",
       "      <td>High</td>\n",
       "      <td>0</td>\n",
       "    </tr>\n",
       "  </tbody>\n",
       "</table>\n",
       "</div>"
      ],
      "text/plain": [
       "           CustomerId   Surname  CreditScore Geography  Gender  Age  Tenure  \\\n",
       "RowNumber                                                                     \n",
       "1            15634602  Hargrave          619    France  Female   42       2   \n",
       "2            15647311      Hill          608     Spain  Female   41       1   \n",
       "3            15619304      Onio          502    France  Female   42       8   \n",
       "4            15701354      Boni          699    France  Female   39       1   \n",
       "5            15737888  Mitchell          850     Spain  Female   43       2   \n",
       "\n",
       "             Balance  NumOfProducts  HasCrCard  IsActiveMember  \\\n",
       "RowNumber                                                        \n",
       "1               0.00              1          1               1   \n",
       "2           83807.86              1          0               1   \n",
       "3          159660.80              3          1               0   \n",
       "4               0.00              2          0               0   \n",
       "5          125510.82              1          1               1   \n",
       "\n",
       "           EstimatedSalary New_Balance  Exited  \n",
       "RowNumber                                       \n",
       "1                101348.88        Zero       1  \n",
       "2                112542.58         Mid       0  \n",
       "3                113931.57        High       1  \n",
       "4                 93826.63        Zero       0  \n",
       "5                 79084.10        High       0  "
      ]
     },
     "execution_count": 3,
     "metadata": {},
     "output_type": "execute_result"
    }
   ],
   "source": [
    "df.head()"
   ]
  },
  {
   "cell_type": "markdown",
   "id": "e7d80496",
   "metadata": {},
   "source": [
    "Encode categorical data for analysis"
   ]
  },
  {
   "cell_type": "code",
   "execution_count": 4,
   "id": "b6f376f8",
   "metadata": {},
   "outputs": [],
   "source": [
    "gender = pd.get_dummies(df['Gender'], drop_first=True)\n",
    "geography = pd.get_dummies(df['Geography'], drop_first=True)\n",
    "new_balance = pd.get_dummies(df['New_Balance'], drop_first=True)"
   ]
  },
  {
   "cell_type": "markdown",
   "id": "b67f1e1f",
   "metadata": {},
   "source": [
    "Split data into features and target"
   ]
  },
  {
   "cell_type": "code",
   "execution_count": 5,
   "id": "3fdb5b32",
   "metadata": {},
   "outputs": [],
   "source": [
    "X = df.iloc[:,2:13]\n",
    "y = df.iloc[:,13]"
   ]
  },
  {
   "cell_type": "markdown",
   "id": "218d955a",
   "metadata": {},
   "source": [
    "Join encoded variables to features"
   ]
  },
  {
   "cell_type": "code",
   "execution_count": 6,
   "id": "bc7ca6d3",
   "metadata": {
    "scrolled": true
   },
   "outputs": [],
   "source": [
    "X = pd.concat([X, gender, geography, new_balance], axis=1)\n",
    "X = X.drop(['Gender', 'Geography', 'Balance', 'New_Balance'], axis = 1)"
   ]
  },
  {
   "cell_type": "code",
   "execution_count": 7,
   "id": "bf6422fe",
   "metadata": {},
   "outputs": [
    {
     "data": {
      "text/html": [
       "<div>\n",
       "<style scoped>\n",
       "    .dataframe tbody tr th:only-of-type {\n",
       "        vertical-align: middle;\n",
       "    }\n",
       "\n",
       "    .dataframe tbody tr th {\n",
       "        vertical-align: top;\n",
       "    }\n",
       "\n",
       "    .dataframe thead th {\n",
       "        text-align: right;\n",
       "    }\n",
       "</style>\n",
       "<table border=\"1\" class=\"dataframe\">\n",
       "  <thead>\n",
       "    <tr style=\"text-align: right;\">\n",
       "      <th></th>\n",
       "      <th>CreditScore</th>\n",
       "      <th>Age</th>\n",
       "      <th>Tenure</th>\n",
       "      <th>NumOfProducts</th>\n",
       "      <th>HasCrCard</th>\n",
       "      <th>IsActiveMember</th>\n",
       "      <th>EstimatedSalary</th>\n",
       "      <th>Male</th>\n",
       "      <th>Germany</th>\n",
       "      <th>Spain</th>\n",
       "      <th>Mid</th>\n",
       "      <th>Zero</th>\n",
       "    </tr>\n",
       "    <tr>\n",
       "      <th>RowNumber</th>\n",
       "      <th></th>\n",
       "      <th></th>\n",
       "      <th></th>\n",
       "      <th></th>\n",
       "      <th></th>\n",
       "      <th></th>\n",
       "      <th></th>\n",
       "      <th></th>\n",
       "      <th></th>\n",
       "      <th></th>\n",
       "      <th></th>\n",
       "      <th></th>\n",
       "    </tr>\n",
       "  </thead>\n",
       "  <tbody>\n",
       "    <tr>\n",
       "      <th>1</th>\n",
       "      <td>619</td>\n",
       "      <td>42</td>\n",
       "      <td>2</td>\n",
       "      <td>1</td>\n",
       "      <td>1</td>\n",
       "      <td>1</td>\n",
       "      <td>101348.88</td>\n",
       "      <td>0</td>\n",
       "      <td>0</td>\n",
       "      <td>0</td>\n",
       "      <td>0</td>\n",
       "      <td>1</td>\n",
       "    </tr>\n",
       "    <tr>\n",
       "      <th>2</th>\n",
       "      <td>608</td>\n",
       "      <td>41</td>\n",
       "      <td>1</td>\n",
       "      <td>1</td>\n",
       "      <td>0</td>\n",
       "      <td>1</td>\n",
       "      <td>112542.58</td>\n",
       "      <td>0</td>\n",
       "      <td>0</td>\n",
       "      <td>1</td>\n",
       "      <td>1</td>\n",
       "      <td>0</td>\n",
       "    </tr>\n",
       "    <tr>\n",
       "      <th>3</th>\n",
       "      <td>502</td>\n",
       "      <td>42</td>\n",
       "      <td>8</td>\n",
       "      <td>3</td>\n",
       "      <td>1</td>\n",
       "      <td>0</td>\n",
       "      <td>113931.57</td>\n",
       "      <td>0</td>\n",
       "      <td>0</td>\n",
       "      <td>0</td>\n",
       "      <td>0</td>\n",
       "      <td>0</td>\n",
       "    </tr>\n",
       "    <tr>\n",
       "      <th>4</th>\n",
       "      <td>699</td>\n",
       "      <td>39</td>\n",
       "      <td>1</td>\n",
       "      <td>2</td>\n",
       "      <td>0</td>\n",
       "      <td>0</td>\n",
       "      <td>93826.63</td>\n",
       "      <td>0</td>\n",
       "      <td>0</td>\n",
       "      <td>0</td>\n",
       "      <td>0</td>\n",
       "      <td>1</td>\n",
       "    </tr>\n",
       "    <tr>\n",
       "      <th>5</th>\n",
       "      <td>850</td>\n",
       "      <td>43</td>\n",
       "      <td>2</td>\n",
       "      <td>1</td>\n",
       "      <td>1</td>\n",
       "      <td>1</td>\n",
       "      <td>79084.10</td>\n",
       "      <td>0</td>\n",
       "      <td>0</td>\n",
       "      <td>1</td>\n",
       "      <td>0</td>\n",
       "      <td>0</td>\n",
       "    </tr>\n",
       "  </tbody>\n",
       "</table>\n",
       "</div>"
      ],
      "text/plain": [
       "           CreditScore  Age  Tenure  NumOfProducts  HasCrCard  IsActiveMember  \\\n",
       "RowNumber                                                                       \n",
       "1                  619   42       2              1          1               1   \n",
       "2                  608   41       1              1          0               1   \n",
       "3                  502   42       8              3          1               0   \n",
       "4                  699   39       1              2          0               0   \n",
       "5                  850   43       2              1          1               1   \n",
       "\n",
       "           EstimatedSalary  Male  Germany  Spain  Mid  Zero  \n",
       "RowNumber                                                    \n",
       "1                101348.88     0        0      0    0     1  \n",
       "2                112542.58     0        0      1    1     0  \n",
       "3                113931.57     0        0      0    0     0  \n",
       "4                 93826.63     0        0      0    0     1  \n",
       "5                 79084.10     0        0      1    0     0  "
      ]
     },
     "execution_count": 7,
     "metadata": {},
     "output_type": "execute_result"
    }
   ],
   "source": [
    "X.head()"
   ]
  },
  {
   "cell_type": "markdown",
   "id": "034ea3a0",
   "metadata": {},
   "source": [
    "Split data into training and testing set. Create scaled features"
   ]
  },
  {
   "cell_type": "code",
   "execution_count": 8,
   "id": "e2aec735",
   "metadata": {},
   "outputs": [],
   "source": [
    "X_train, X_test, y_train, y_test = train_test_split(X, y, test_size=0.2, random_state=711, stratify =y)"
   ]
  },
  {
   "cell_type": "code",
   "execution_count": 9,
   "id": "6213c620",
   "metadata": {},
   "outputs": [],
   "source": [
    "Scaler = StandardScaler()\n",
    "\n",
    "X_trainsc = Scaler.fit_transform(X_train)\n",
    "X_testsc = Scaler.transform(X_test)"
   ]
  },
  {
   "cell_type": "markdown",
   "id": "105fe2e5",
   "metadata": {},
   "source": [
    "## Baseline Dummy Classifier"
   ]
  },
  {
   "cell_type": "markdown",
   "id": "9e4bf45e",
   "metadata": {},
   "source": [
    "Dummy classifier where all customers are predicted to exit or churn"
   ]
  },
  {
   "cell_type": "code",
   "execution_count": 10,
   "id": "81765384",
   "metadata": {},
   "outputs": [
    {
     "name": "stdout",
     "output_type": "stream",
     "text": [
      "Dummy Training Score: 20.38%\n",
      "Dummy Test Score: 20.35%\n"
     ]
    }
   ],
   "source": [
    "dummy_class = DummyClassifier(strategy = 'constant', constant = 1)\n",
    "dummy_class.fit(X_trainsc, y_train)\n",
    "\n",
    "dummy_train_score =dummy_class.score(X_trainsc,y_train)\n",
    "dummy_test_score = dummy_class.score(X_testsc, y_test)\n",
    "\n",
    "print(\"Dummy Training Score: {:.2f}%\".format(100*dummy_train_score))\n",
    "print(\"Dummy Test Score: {:.2f}%\".format(100*dummy_test_score))"
   ]
  },
  {
   "cell_type": "code",
   "execution_count": 11,
   "id": "0386e706",
   "metadata": {},
   "outputs": [
    {
     "data": {
      "image/png": "[encoded data removed]",
      "text/plain": [
       "<Figure size 432x288 with 2 Axes>"
      ]
     },
     "metadata": {
      "needs_background": "light"
     },
     "output_type": "display_data"
    }
   ],
   "source": [
    "dummy_confusion = confusion_matrix(y_test, dummy_class.predict(X_testsc))\n",
    "sns.heatmap(dummy_confusion, cmap=\"Greens\", annot=True, square=True,fmt='g', \n",
    "            xticklabels=['Retained', 'Exited'], \n",
    "            yticklabels=['Retained', 'Exited'])\n",
    "plt.xlabel('Predicted')\n",
    "plt.ylabel('Actual')\n",
    "plt.title('Everyone Exited');\n",
    "plt.savefig(\"Everyone_Exited.png\")"
   ]
  },
  {
   "cell_type": "markdown",
   "id": "7a3a96c7",
   "metadata": {},
   "source": [
    "Dummy classifier where all customers are predicted to be retained"
   ]
  },
  {
   "cell_type": "code",
   "execution_count": 12,
   "id": "9a5367cb",
   "metadata": {},
   "outputs": [
    {
     "name": "stdout",
     "output_type": "stream",
     "text": [
      "Dummy Training Score: 79.62%\n",
      "Dummy Test Score: 79.65%\n"
     ]
    }
   ],
   "source": [
    "dummy_class = DummyClassifier()\n",
    "dummy_class.fit(X_trainsc, y_train)\n",
    "\n",
    "dummy_train_score =dummy_class.score(X_trainsc,y_train)\n",
    "dummy_test_score = dummy_class.score(X_testsc, y_test)\n",
    "\n",
    "print(\"Dummy Training Score: {:.2f}%\".format(100*dummy_train_score))\n",
    "print(\"Dummy Test Score: {:.2f}%\".format(100*dummy_test_score))"
   ]
  },
  {
   "cell_type": "code",
   "execution_count": 13,
   "id": "d6418422",
   "metadata": {},
   "outputs": [
    {
     "data": {
      "image/png": "[encoded data removed]",
      "text/plain": [
       "<Figure size 432x288 with 2 Axes>"
      ]
     },
     "metadata": {
      "needs_background": "light"
     },
     "output_type": "display_data"
    }
   ],
   "source": [
    "dummy_confusion = confusion_matrix(y_test, dummy_class.predict(X_testsc))\n",
    "sns.heatmap(dummy_confusion, cmap=\"Greens\", annot=True, square=True,fmt='g', \n",
    "            xticklabels=['Retained', 'Exited'], \n",
    "            yticklabels=['Retained', 'Exited'])\n",
    "plt.xlabel('Predicted')\n",
    "plt.ylabel('Actual')\n",
    "plt.title('Everyone Retained');\n",
    "plt.savefig(\"Everyone_Retained.png\")"
   ]
  },
  {
   "cell_type": "markdown",
   "id": "abb5d67f",
   "metadata": {},
   "source": [
    "ROC curve parameters"
   ]
  },
  {
   "cell_type": "code",
   "execution_count": 14,
   "id": "9eb3e6a1",
   "metadata": {},
   "outputs": [],
   "source": [
    "fpr_dum, tpr_dum, thresholds_dum = roc_curve(y_test, dummy_class.predict_proba(X_testsc)[:,1])"
   ]
  },
  {
   "cell_type": "markdown",
   "id": "c1f82471",
   "metadata": {},
   "source": [
    "## K Nearest Neighbors "
   ]
  },
  {
   "cell_type": "markdown",
   "id": "c357b78a",
   "metadata": {},
   "source": [
    "**- GridSearchCV**"
   ]
  },
  {
   "cell_type": "code",
   "execution_count": 15,
   "id": "11a7a172",
   "metadata": {},
   "outputs": [],
   "source": [
    "knn = KNeighborsClassifier()"
   ]
  },
  {
   "cell_type": "markdown",
   "id": "42c1cba8",
   "metadata": {},
   "source": [
    "Grid search parameters"
   ]
  },
  {
   "cell_type": "code",
   "execution_count": 16,
   "id": "fe438cbe",
   "metadata": {},
   "outputs": [],
   "source": [
    "k_range = np.arange(1,25)\n",
    "weight_options = ['uniform', 'distance']\n",
    "fbeta_scorer = make_scorer(fbeta_score, beta=0.25)"
   ]
  },
  {
   "cell_type": "code",
   "execution_count": 17,
   "id": "c1de24ab",
   "metadata": {},
   "outputs": [
    {
     "name": "stdout",
     "output_type": "stream",
     "text": [
      "{'n_neighbors': array([ 1,  2,  3,  4,  5,  6,  7,  8,  9, 10, 11, 12, 13, 14, 15, 16, 17,\n",
      "       18, 19, 20, 21, 22, 23, 24]), 'weights': ['uniform', 'distance']}\n"
     ]
    }
   ],
   "source": [
    "param_grid_knn = dict(n_neighbors = k_range, weights=weight_options)\n",
    "print(param_grid_knn)"
   ]
  },
  {
   "cell_type": "code",
   "execution_count": 18,
   "id": "ff90bc7c",
   "metadata": {},
   "outputs": [
    {
     "data": {
      "text/plain": [
       "GridSearchCV(cv=10, estimator=KNeighborsClassifier(),\n",
       "             param_grid={'n_neighbors': array([ 1,  2,  3,  4,  5,  6,  7,  8,  9, 10, 11, 12, 13, 14, 15, 16, 17,\n",
       "       18, 19, 20, 21, 22, 23, 24]),\n",
       "                         'weights': ['uniform', 'distance']},\n",
       "             scoring=make_scorer(fbeta_score, beta=0.25))"
      ]
     },
     "execution_count": 18,
     "metadata": {},
     "output_type": "execute_result"
    }
   ],
   "source": [
    "gridcv_knn = GridSearchCV(knn, param_grid_knn, cv=10, scoring = fbeta_scorer)\n",
    "gridcv_knn.fit(X_trainsc, y_train)"
   ]
  },
  {
   "cell_type": "code",
   "execution_count": 19,
   "id": "4f8fc968",
   "metadata": {
    "scrolled": false
   },
   "outputs": [
    {
     "data": {
      "text/html": [
       "<div>\n",
       "<style scoped>\n",
       "    .dataframe tbody tr th:only-of-type {\n",
       "        vertical-align: middle;\n",
       "    }\n",
       "\n",
       "    .dataframe tbody tr th {\n",
       "        vertical-align: top;\n",
       "    }\n",
       "\n",
       "    .dataframe thead th {\n",
       "        text-align: right;\n",
       "    }\n",
       "</style>\n",
       "<table border=\"1\" class=\"dataframe\">\n",
       "  <thead>\n",
       "    <tr style=\"text-align: right;\">\n",
       "      <th></th>\n",
       "      <th>mean_fit_time</th>\n",
       "      <th>std_fit_time</th>\n",
       "      <th>mean_score_time</th>\n",
       "      <th>std_score_time</th>\n",
       "      <th>param_n_neighbors</th>\n",
       "      <th>param_weights</th>\n",
       "      <th>params</th>\n",
       "      <th>split0_test_score</th>\n",
       "      <th>split1_test_score</th>\n",
       "      <th>split2_test_score</th>\n",
       "      <th>split3_test_score</th>\n",
       "      <th>split4_test_score</th>\n",
       "      <th>split5_test_score</th>\n",
       "      <th>split6_test_score</th>\n",
       "      <th>split7_test_score</th>\n",
       "      <th>split8_test_score</th>\n",
       "      <th>split9_test_score</th>\n",
       "      <th>mean_test_score</th>\n",
       "      <th>std_test_score</th>\n",
       "      <th>rank_test_score</th>\n",
       "    </tr>\n",
       "  </thead>\n",
       "  <tbody>\n",
       "    <tr>\n",
       "      <th>0</th>\n",
       "      <td>0.007545</td>\n",
       "      <td>0.000939</td>\n",
       "      <td>0.029014</td>\n",
       "      <td>0.001097</td>\n",
       "      <td>1</td>\n",
       "      <td>uniform</td>\n",
       "      <td>{'n_neighbors': 1, 'weights': 'uniform'}</td>\n",
       "      <td>0.409176</td>\n",
       "      <td>0.466717</td>\n",
       "      <td>0.496599</td>\n",
       "      <td>0.484911</td>\n",
       "      <td>0.488140</td>\n",
       "      <td>0.470280</td>\n",
       "      <td>0.504950</td>\n",
       "      <td>0.427315</td>\n",
       "      <td>0.510865</td>\n",
       "      <td>0.473891</td>\n",
       "      <td>0.473284</td>\n",
       "      <td>0.030968</td>\n",
       "      <td>46</td>\n",
       "    </tr>\n",
       "    <tr>\n",
       "      <th>1</th>\n",
       "      <td>0.007070</td>\n",
       "      <td>0.000028</td>\n",
       "      <td>0.018265</td>\n",
       "      <td>0.000333</td>\n",
       "      <td>1</td>\n",
       "      <td>distance</td>\n",
       "      <td>{'n_neighbors': 1, 'weights': 'distance'}</td>\n",
       "      <td>0.409176</td>\n",
       "      <td>0.466717</td>\n",
       "      <td>0.496599</td>\n",
       "      <td>0.484911</td>\n",
       "      <td>0.488140</td>\n",
       "      <td>0.470280</td>\n",
       "      <td>0.504950</td>\n",
       "      <td>0.427315</td>\n",
       "      <td>0.510865</td>\n",
       "      <td>0.473891</td>\n",
       "      <td>0.473284</td>\n",
       "      <td>0.030968</td>\n",
       "      <td>46</td>\n",
       "    </tr>\n",
       "    <tr>\n",
       "      <th>2</th>\n",
       "      <td>0.007626</td>\n",
       "      <td>0.001219</td>\n",
       "      <td>0.035185</td>\n",
       "      <td>0.000832</td>\n",
       "      <td>2</td>\n",
       "      <td>uniform</td>\n",
       "      <td>{'n_neighbors': 2, 'weights': 'uniform'}</td>\n",
       "      <td>0.506775</td>\n",
       "      <td>0.626062</td>\n",
       "      <td>0.612463</td>\n",
       "      <td>0.616744</td>\n",
       "      <td>0.570470</td>\n",
       "      <td>0.621779</td>\n",
       "      <td>0.577904</td>\n",
       "      <td>0.594536</td>\n",
       "      <td>0.632558</td>\n",
       "      <td>0.537313</td>\n",
       "      <td>0.589660</td>\n",
       "      <td>0.039485</td>\n",
       "      <td>41</td>\n",
       "    </tr>\n",
       "    <tr>\n",
       "      <th>3</th>\n",
       "      <td>0.007201</td>\n",
       "      <td>0.000083</td>\n",
       "      <td>0.025087</td>\n",
       "      <td>0.000571</td>\n",
       "      <td>2</td>\n",
       "      <td>distance</td>\n",
       "      <td>{'n_neighbors': 2, 'weights': 'distance'}</td>\n",
       "      <td>0.409176</td>\n",
       "      <td>0.466717</td>\n",
       "      <td>0.496599</td>\n",
       "      <td>0.484911</td>\n",
       "      <td>0.488140</td>\n",
       "      <td>0.470280</td>\n",
       "      <td>0.504950</td>\n",
       "      <td>0.427315</td>\n",
       "      <td>0.510865</td>\n",
       "      <td>0.473891</td>\n",
       "      <td>0.473284</td>\n",
       "      <td>0.030968</td>\n",
       "      <td>46</td>\n",
       "    </tr>\n",
       "    <tr>\n",
       "      <th>4</th>\n",
       "      <td>0.007119</td>\n",
       "      <td>0.000056</td>\n",
       "      <td>0.039854</td>\n",
       "      <td>0.000630</td>\n",
       "      <td>3</td>\n",
       "      <td>uniform</td>\n",
       "      <td>{'n_neighbors': 3, 'weights': 'uniform'}</td>\n",
       "      <td>0.514915</td>\n",
       "      <td>0.608696</td>\n",
       "      <td>0.555102</td>\n",
       "      <td>0.535203</td>\n",
       "      <td>0.517042</td>\n",
       "      <td>0.551351</td>\n",
       "      <td>0.566367</td>\n",
       "      <td>0.512427</td>\n",
       "      <td>0.520096</td>\n",
       "      <td>0.578559</td>\n",
       "      <td>0.545976</td>\n",
       "      <td>0.030392</td>\n",
       "      <td>44</td>\n",
       "    </tr>\n",
       "  </tbody>\n",
       "</table>\n",
       "</div>"
      ],
      "text/plain": [
       "   mean_fit_time  std_fit_time  mean_score_time  std_score_time  \\\n",
       "0       0.007545      0.000939         0.029014        0.001097   \n",
       "1       0.007070      0.000028         0.018265        0.000333   \n",
       "2       0.007626      0.001219         0.035185        0.000832   \n",
       "3       0.007201      0.000083         0.025087        0.000571   \n",
       "4       0.007119      0.000056         0.039854        0.000630   \n",
       "\n",
       "  param_n_neighbors param_weights                                     params  \\\n",
       "0                 1       uniform   {'n_neighbors': 1, 'weights': 'uniform'}   \n",
       "1                 1      distance  {'n_neighbors': 1, 'weights': 'distance'}   \n",
       "2                 2       uniform   {'n_neighbors': 2, 'weights': 'uniform'}   \n",
       "3                 2      distance  {'n_neighbors': 2, 'weights': 'distance'}   \n",
       "4                 3       uniform   {'n_neighbors': 3, 'weights': 'uniform'}   \n",
       "\n",
       "   split0_test_score  split1_test_score  split2_test_score  split3_test_score  \\\n",
       "0           0.409176           0.466717           0.496599           0.484911   \n",
       "1           0.409176           0.466717           0.496599           0.484911   \n",
       "2           0.506775           0.626062           0.612463           0.616744   \n",
       "3           0.409176           0.466717           0.496599           0.484911   \n",
       "4           0.514915           0.608696           0.555102           0.535203   \n",
       "\n",
       "   split4_test_score  split5_test_score  split6_test_score  split7_test_score  \\\n",
       "0           0.488140           0.470280           0.504950           0.427315   \n",
       "1           0.488140           0.470280           0.504950           0.427315   \n",
       "2           0.570470           0.621779           0.577904           0.594536   \n",
       "3           0.488140           0.470280           0.504950           0.427315   \n",
       "4           0.517042           0.551351           0.566367           0.512427   \n",
       "\n",
       "   split8_test_score  split9_test_score  mean_test_score  std_test_score  \\\n",
       "0           0.510865           0.473891         0.473284        0.030968   \n",
       "1           0.510865           0.473891         0.473284        0.030968   \n",
       "2           0.632558           0.537313         0.589660        0.039485   \n",
       "3           0.510865           0.473891         0.473284        0.030968   \n",
       "4           0.520096           0.578559         0.545976        0.030392   \n",
       "\n",
       "   rank_test_score  \n",
       "0               46  \n",
       "1               46  \n",
       "2               41  \n",
       "3               46  \n",
       "4               44  "
      ]
     },
     "execution_count": 19,
     "metadata": {},
     "output_type": "execute_result"
    }
   ],
   "source": [
    "df_cv_knn = pd.DataFrame(gridcv_knn.cv_results_)\n",
    "df_cv_knn.head()"
   ]
  },
  {
   "cell_type": "markdown",
   "id": "ed8bea41",
   "metadata": {},
   "source": [
    "Plotting mean test score with distance versus number of neighbors"
   ]
  },
  {
   "cell_type": "code",
   "execution_count": 20,
   "id": "4d87df35",
   "metadata": {
    "scrolled": true
   },
   "outputs": [
    {
     "data": {
      "text/plain": [
       "[<matplotlib.lines.Line2D at 0x7fca6f993400>]"
      ]
     },
     "execution_count": 20,
     "metadata": {},
     "output_type": "execute_result"
    },
    {
     "data": {
      "image/png": "[encoded data removed]",
      "text/plain": [
       "<Figure size 432x288 with 1 Axes>"
      ]
     },
     "metadata": {
      "needs_background": "light"
     },
     "output_type": "display_data"
    }
   ],
   "source": [
    "y_distance = df_cv_knn[df_cv_knn['param_weights'] == 'distance']['mean_test_score']\n",
    "x = k_range\n",
    "plt.plot(x, y_distance)"
   ]
  },
  {
   "cell_type": "markdown",
   "id": "2e400b17",
   "metadata": {},
   "source": [
    "Plotting mean test score with uniform versus number of neighbors"
   ]
  },
  {
   "cell_type": "code",
   "execution_count": 21,
   "id": "170474cb",
   "metadata": {},
   "outputs": [
    {
     "data": {
      "text/plain": [
       "[<matplotlib.lines.Line2D at 0x7fca6f7f0430>]"
      ]
     },
     "execution_count": 21,
     "metadata": {},
     "output_type": "execute_result"
    },
    {
     "data": {
      "image/png": "[encoded data removed]",
      "text/plain": [
       "<Figure size 432x288 with 1 Axes>"
      ]
     },
     "metadata": {
      "needs_background": "light"
     },
     "output_type": "display_data"
    }
   ],
   "source": [
    "y_uniform = df_cv_knn[df_cv_knn['param_weights'] == 'uniform']['mean_test_score']\n",
    "x = k_range\n",
    "plt.plot(x, y_uniform)"
   ]
  },
  {
   "cell_type": "code",
   "execution_count": 22,
   "id": "7fba1c40",
   "metadata": {},
   "outputs": [
    {
     "name": "stdout",
     "output_type": "stream",
     "text": [
      "Best params:  {'n_neighbors': 22, 'weights': 'uniform'}\n",
      "Best estimator:  KNeighborsClassifier(n_neighbors=22)\n",
      "Best score:  0.6739550835052677\n"
     ]
    }
   ],
   "source": [
    "print(\"Best params: \", gridcv_knn.best_params_)\n",
    "print(\"Best estimator: \", gridcv_knn.best_estimator_)\n",
    "print(\"Best score: \", gridcv_knn.best_score_)"
   ]
  },
  {
   "cell_type": "markdown",
   "id": "d813a211",
   "metadata": {},
   "source": [
    "Fit a new KNN model using the best parameters from the grid search"
   ]
  },
  {
   "cell_type": "code",
   "execution_count": 23,
   "id": "4c612043",
   "metadata": {},
   "outputs": [
    {
     "data": {
      "text/plain": [
       "KNeighborsClassifier(n_neighbors=22)"
      ]
     },
     "execution_count": 23,
     "metadata": {},
     "output_type": "execute_result"
    }
   ],
   "source": [
    "knn = KNeighborsClassifier(n_neighbors = gridcv_knn.best_params_['n_neighbors'], weights = gridcv_knn.best_params_['weights'])\n",
    "knn.fit(X_trainsc, y_train)"
   ]
  },
  {
   "cell_type": "code",
   "execution_count": 24,
   "id": "b6c731e9",
   "metadata": {},
   "outputs": [
    {
     "name": "stdout",
     "output_type": "stream",
     "text": [
      "KNN Training Score: 83.70%\n",
      "KNN Validation Score: 82.45%\n"
     ]
    }
   ],
   "source": [
    "knn_train_score = knn.score(X_trainsc, y_train)\n",
    "knn_test_score = knn.score(X_testsc, y_test)\n",
    "print(\"KNN Training Score: {:.2f}%\".format(100*knn_train_score))\n",
    "print(\"KNN Validation Score: {:.2f}%\".format(100*knn_test_score))"
   ]
  },
  {
   "cell_type": "code",
   "execution_count": 25,
   "id": "6dcf5bc2",
   "metadata": {},
   "outputs": [
    {
     "data": {
      "image/png": "[encoded data removed]",
      "text/plain": [
       "<Figure size 432x288 with 2 Axes>"
      ]
     },
     "metadata": {
      "needs_background": "light"
     },
     "output_type": "display_data"
    }
   ],
   "source": [
    "knn_confusion = confusion_matrix(y_test, knn.predict(X_testsc))\n",
    "sns.heatmap(knn_confusion, cmap=\"Greens\", annot=True, square=True,fmt='g', \n",
    "            xticklabels=['Retained', 'Exited'], \n",
    "            yticklabels=['Retained', 'Exited'])\n",
    "plt.xlabel('Predicted')\n",
    "plt.ylabel('Actual')\n",
    "plt.title('KNN Classifier Confusion Matrix');\n",
    "plt.savefig('KNN_Confusion.png')"
   ]
  },
  {
   "cell_type": "code",
   "execution_count": 26,
   "id": "c5fd5003",
   "metadata": {},
   "outputs": [
    {
     "name": "stdout",
     "output_type": "stream",
     "text": [
      "KNN F-Beta:0.665 KNN Precision:0.792 KNN Recall:0.187\n"
     ]
    }
   ],
   "source": [
    "knn_fbeta = fbeta_score(y_test, knn.predict(X_testsc), beta=0.25)\n",
    "knn_precision = precision_score(y_test, knn.predict(X_testsc))\n",
    "knn_recall = recall_score(y_test, knn.predict(X_testsc))\n",
    "print(\"KNN F-Beta:{:.3f} KNN Precision:{:.3f} KNN Recall:{:.3f}\".format(knn_fbeta, knn_precision, knn_recall))"
   ]
  },
  {
   "cell_type": "markdown",
   "id": "abddf761",
   "metadata": {},
   "source": [
    "ROC curve parameters"
   ]
  },
  {
   "cell_type": "code",
   "execution_count": 27,
   "id": "f2b3149b",
   "metadata": {},
   "outputs": [],
   "source": [
    "fpr_knn, tpr_knn, thresholds_knn = roc_curve(y_test, knn.predict_proba(X_testsc)[:,1])"
   ]
  },
  {
   "cell_type": "markdown",
   "id": "dd3315a7",
   "metadata": {},
   "source": [
    "## Logistic Regression"
   ]
  },
  {
   "cell_type": "markdown",
   "id": "e73ca398",
   "metadata": {},
   "source": [
    "Grid search parameters"
   ]
  },
  {
   "cell_type": "code",
   "execution_count": 28,
   "id": "61848a81",
   "metadata": {},
   "outputs": [],
   "source": [
    "C_range = np.arange(.4,.7,0.01)\n",
    "param_grid_lr = dict(C = C_range, penalty = [\"l1\",\"l2\"],  solver = ['lbfgs', 'liblinear', 'sag', 'saga'])"
   ]
  },
  {
   "cell_type": "code",
   "execution_count": 29,
   "id": "8f5291f9",
   "metadata": {},
   "outputs": [
    {
     "data": {
      "text/plain": [
       "GridSearchCV(cv=10, estimator=LogisticRegression(),\n",
       "             param_grid={'C': array([0.4 , 0.41, 0.42, 0.43, 0.44, 0.45, 0.46, 0.47, 0.48, 0.49, 0.5 ,\n",
       "       0.51, 0.52, 0.53, 0.54, 0.55, 0.56, 0.57, 0.58, 0.59, 0.6 , 0.61,\n",
       "       0.62, 0.63, 0.64, 0.65, 0.66, 0.67, 0.68, 0.69]),\n",
       "                         'penalty': ['l1', 'l2'],\n",
       "                         'solver': ['lbfgs', 'liblinear', 'sag', 'saga']},\n",
       "             scoring='accuracy')"
      ]
     },
     "execution_count": 29,
     "metadata": {},
     "output_type": "execute_result"
    }
   ],
   "source": [
    "gridcv_lr = GridSearchCV(LogisticRegression(max_iter=100), param_grid_lr, cv=10, scoring = 'accuracy')\n",
    "gridcv_lr.fit(X_trainsc, y_train)"
   ]
  },
  {
   "cell_type": "code",
   "execution_count": 30,
   "id": "864af7ea",
   "metadata": {},
   "outputs": [
    {
     "data": {
      "text/html": [
       "<div>\n",
       "<style scoped>\n",
       "    .dataframe tbody tr th:only-of-type {\n",
       "        vertical-align: middle;\n",
       "    }\n",
       "\n",
       "    .dataframe tbody tr th {\n",
       "        vertical-align: top;\n",
       "    }\n",
       "\n",
       "    .dataframe thead th {\n",
       "        text-align: right;\n",
       "    }\n",
       "</style>\n",
       "<table border=\"1\" class=\"dataframe\">\n",
       "  <thead>\n",
       "    <tr style=\"text-align: right;\">\n",
       "      <th></th>\n",
       "      <th>mean_fit_time</th>\n",
       "      <th>std_fit_time</th>\n",
       "      <th>mean_score_time</th>\n",
       "      <th>std_score_time</th>\n",
       "      <th>param_C</th>\n",
       "      <th>param_penalty</th>\n",
       "      <th>param_solver</th>\n",
       "      <th>params</th>\n",
       "      <th>split0_test_score</th>\n",
       "      <th>split1_test_score</th>\n",
       "      <th>...</th>\n",
       "      <th>split3_test_score</th>\n",
       "      <th>split4_test_score</th>\n",
       "      <th>split5_test_score</th>\n",
       "      <th>split6_test_score</th>\n",
       "      <th>split7_test_score</th>\n",
       "      <th>split8_test_score</th>\n",
       "      <th>split9_test_score</th>\n",
       "      <th>mean_test_score</th>\n",
       "      <th>std_test_score</th>\n",
       "      <th>rank_test_score</th>\n",
       "    </tr>\n",
       "  </thead>\n",
       "  <tbody>\n",
       "    <tr>\n",
       "      <th>0</th>\n",
       "      <td>0.000458</td>\n",
       "      <td>0.000042</td>\n",
       "      <td>0.000000</td>\n",
       "      <td>0.000000</td>\n",
       "      <td>0.4</td>\n",
       "      <td>l1</td>\n",
       "      <td>lbfgs</td>\n",
       "      <td>{'C': 0.4, 'penalty': 'l1', 'solver': 'lbfgs'}</td>\n",
       "      <td>NaN</td>\n",
       "      <td>NaN</td>\n",
       "      <td>...</td>\n",
       "      <td>NaN</td>\n",
       "      <td>NaN</td>\n",
       "      <td>NaN</td>\n",
       "      <td>NaN</td>\n",
       "      <td>NaN</td>\n",
       "      <td>NaN</td>\n",
       "      <td>NaN</td>\n",
       "      <td>NaN</td>\n",
       "      <td>NaN</td>\n",
       "      <td>240</td>\n",
       "    </tr>\n",
       "    <tr>\n",
       "      <th>1</th>\n",
       "      <td>0.008727</td>\n",
       "      <td>0.000725</td>\n",
       "      <td>0.000456</td>\n",
       "      <td>0.000463</td>\n",
       "      <td>0.4</td>\n",
       "      <td>l1</td>\n",
       "      <td>liblinear</td>\n",
       "      <td>{'C': 0.4, 'penalty': 'l1', 'solver': 'libline...</td>\n",
       "      <td>0.8100</td>\n",
       "      <td>0.80750</td>\n",
       "      <td>...</td>\n",
       "      <td>0.82000</td>\n",
       "      <td>0.81500</td>\n",
       "      <td>0.80875</td>\n",
       "      <td>0.82375</td>\n",
       "      <td>0.80125</td>\n",
       "      <td>0.7975</td>\n",
       "      <td>0.8175</td>\n",
       "      <td>0.812500</td>\n",
       "      <td>0.008588</td>\n",
       "      <td>143</td>\n",
       "    </tr>\n",
       "    <tr>\n",
       "      <th>2</th>\n",
       "      <td>0.000425</td>\n",
       "      <td>0.000017</td>\n",
       "      <td>0.000000</td>\n",
       "      <td>0.000000</td>\n",
       "      <td>0.4</td>\n",
       "      <td>l1</td>\n",
       "      <td>sag</td>\n",
       "      <td>{'C': 0.4, 'penalty': 'l1', 'solver': 'sag'}</td>\n",
       "      <td>NaN</td>\n",
       "      <td>NaN</td>\n",
       "      <td>...</td>\n",
       "      <td>NaN</td>\n",
       "      <td>NaN</td>\n",
       "      <td>NaN</td>\n",
       "      <td>NaN</td>\n",
       "      <td>NaN</td>\n",
       "      <td>NaN</td>\n",
       "      <td>NaN</td>\n",
       "      <td>NaN</td>\n",
       "      <td>NaN</td>\n",
       "      <td>184</td>\n",
       "    </tr>\n",
       "    <tr>\n",
       "      <th>3</th>\n",
       "      <td>0.035778</td>\n",
       "      <td>0.001819</td>\n",
       "      <td>0.000513</td>\n",
       "      <td>0.000712</td>\n",
       "      <td>0.4</td>\n",
       "      <td>l1</td>\n",
       "      <td>saga</td>\n",
       "      <td>{'C': 0.4, 'penalty': 'l1', 'solver': 'saga'}</td>\n",
       "      <td>0.8125</td>\n",
       "      <td>0.80750</td>\n",
       "      <td>...</td>\n",
       "      <td>0.82000</td>\n",
       "      <td>0.81500</td>\n",
       "      <td>0.80875</td>\n",
       "      <td>0.82375</td>\n",
       "      <td>0.80125</td>\n",
       "      <td>0.7975</td>\n",
       "      <td>0.8175</td>\n",
       "      <td>0.812750</td>\n",
       "      <td>0.008548</td>\n",
       "      <td>47</td>\n",
       "    </tr>\n",
       "    <tr>\n",
       "      <th>4</th>\n",
       "      <td>0.007576</td>\n",
       "      <td>0.004133</td>\n",
       "      <td>0.000296</td>\n",
       "      <td>0.000091</td>\n",
       "      <td>0.4</td>\n",
       "      <td>l2</td>\n",
       "      <td>lbfgs</td>\n",
       "      <td>{'C': 0.4, 'penalty': 'l2', 'solver': 'lbfgs'}</td>\n",
       "      <td>0.8100</td>\n",
       "      <td>0.80875</td>\n",
       "      <td>...</td>\n",
       "      <td>0.82125</td>\n",
       "      <td>0.81625</td>\n",
       "      <td>0.80875</td>\n",
       "      <td>0.82375</td>\n",
       "      <td>0.80125</td>\n",
       "      <td>0.7975</td>\n",
       "      <td>0.8175</td>\n",
       "      <td>0.812875</td>\n",
       "      <td>0.008679</td>\n",
       "      <td>8</td>\n",
       "    </tr>\n",
       "  </tbody>\n",
       "</table>\n",
       "<p>5 rows × 21 columns</p>\n",
       "</div>"
      ],
      "text/plain": [
       "   mean_fit_time  std_fit_time  mean_score_time  std_score_time param_C  \\\n",
       "0       0.000458      0.000042         0.000000        0.000000     0.4   \n",
       "1       0.008727      0.000725         0.000456        0.000463     0.4   \n",
       "2       0.000425      0.000017         0.000000        0.000000     0.4   \n",
       "3       0.035778      0.001819         0.000513        0.000712     0.4   \n",
       "4       0.007576      0.004133         0.000296        0.000091     0.4   \n",
       "\n",
       "  param_penalty param_solver  \\\n",
       "0            l1        lbfgs   \n",
       "1            l1    liblinear   \n",
       "2            l1          sag   \n",
       "3            l1         saga   \n",
       "4            l2        lbfgs   \n",
       "\n",
       "                                              params  split0_test_score  \\\n",
       "0     {'C': 0.4, 'penalty': 'l1', 'solver': 'lbfgs'}                NaN   \n",
       "1  {'C': 0.4, 'penalty': 'l1', 'solver': 'libline...             0.8100   \n",
       "2       {'C': 0.4, 'penalty': 'l1', 'solver': 'sag'}                NaN   \n",
       "3      {'C': 0.4, 'penalty': 'l1', 'solver': 'saga'}             0.8125   \n",
       "4     {'C': 0.4, 'penalty': 'l2', 'solver': 'lbfgs'}             0.8100   \n",
       "\n",
       "   split1_test_score  ...  split3_test_score  split4_test_score  \\\n",
       "0                NaN  ...                NaN                NaN   \n",
       "1            0.80750  ...            0.82000            0.81500   \n",
       "2                NaN  ...                NaN                NaN   \n",
       "3            0.80750  ...            0.82000            0.81500   \n",
       "4            0.80875  ...            0.82125            0.81625   \n",
       "\n",
       "   split5_test_score  split6_test_score  split7_test_score  split8_test_score  \\\n",
       "0                NaN                NaN                NaN                NaN   \n",
       "1            0.80875            0.82375            0.80125             0.7975   \n",
       "2                NaN                NaN                NaN                NaN   \n",
       "3            0.80875            0.82375            0.80125             0.7975   \n",
       "4            0.80875            0.82375            0.80125             0.7975   \n",
       "\n",
       "   split9_test_score  mean_test_score  std_test_score  rank_test_score  \n",
       "0                NaN              NaN             NaN              240  \n",
       "1             0.8175         0.812500        0.008588              143  \n",
       "2                NaN              NaN             NaN              184  \n",
       "3             0.8175         0.812750        0.008548               47  \n",
       "4             0.8175         0.812875        0.008679                8  \n",
       "\n",
       "[5 rows x 21 columns]"
      ]
     },
     "execution_count": 30,
     "metadata": {},
     "output_type": "execute_result"
    }
   ],
   "source": [
    "df_cv_lr = pd.DataFrame(gridcv_lr.cv_results_)\n",
    "df_cv_lr.head()"
   ]
  },
  {
   "cell_type": "code",
   "execution_count": 31,
   "id": "38cd10b8",
   "metadata": {},
   "outputs": [
    {
     "name": "stdout",
     "output_type": "stream",
     "text": [
      "Best params:  {'C': 0.6400000000000002, 'penalty': 'l1', 'solver': 'liblinear'}\n",
      "Best estimator:  LogisticRegression(C=0.6400000000000002, penalty='l1', solver='liblinear')\n",
      "Best score:  0.8130000000000001\n"
     ]
    }
   ],
   "source": [
    "print(\"Best params: \", gridcv_lr.best_params_)\n",
    "print(\"Best estimator: \", gridcv_lr.best_estimator_)\n",
    "print(\"Best score: \", gridcv_lr.best_score_)"
   ]
  },
  {
   "cell_type": "markdown",
   "id": "6556df44",
   "metadata": {},
   "source": [
    "Train new logicstic regression model using the best parameters form the grid search results"
   ]
  },
  {
   "cell_type": "code",
   "execution_count": 32,
   "id": "31e14e0e",
   "metadata": {},
   "outputs": [
    {
     "name": "stdout",
     "output_type": "stream",
     "text": [
      "Logistic Training Score: 81.29%\n",
      "Logistic Validation Score: 80.55%\n"
     ]
    }
   ],
   "source": [
    "lr = LogisticRegression(C = gridcv_lr.best_params_['C'], max_iter = 100, multi_class='auto', \n",
    "                        penalty = gridcv_lr.best_params_['penalty'], solver= gridcv_lr.best_params_['solver'])\n",
    "lr.fit(X_trainsc, y_train)\n",
    "print(\"Logistic Training Score: {:.2f}%\".format(100*lr.score(X_trainsc,y_train)))\n",
    "print(\"Logistic Validation Score: {:.2f}%\".format(100*lr.score(X_testsc,y_test)))"
   ]
  },
  {
   "cell_type": "code",
   "execution_count": 133,
   "id": "a4dfd84e",
   "metadata": {},
   "outputs": [],
   "source": [
    "def make_confusion_matrix(model, threshold=0.5):\n",
    "    # Predict class 1 if probability of being in class 1 is greater than threshold\n",
    "    # (model.predict(X_val) does this automatically with a threshold of 0.5)\n",
    "    y_predict = (model.predict_proba(X_testsc)[:, 1] >= threshold)\n",
    "    exited_confusion = confusion_matrix(y_test, y_predict)\n",
    "    plt.figure(dpi=80)\n",
    "    sns.heatmap(exited_confusion, cmap=\"Greens\", annot=True, square=True, fmt='d',\n",
    "           xticklabels=['Retained', 'Exited'],\n",
    "           yticklabels=['Retained', 'Exited']);\n",
    "    plt.title('Logistic Regression Confusion Matrix');\n",
    "    plt.xlabel('Prediction')\n",
    "    plt.ylabel('Actual')"
   ]
  },
  {
   "cell_type": "code",
   "execution_count": 134,
   "id": "1566c4b9",
   "metadata": {},
   "outputs": [
    {
     "data": {
      "image/png": "[encoded data removed]",
      "text/plain": [
       "<Figure size 480x320 with 2 Axes>"
      ]
     },
     "metadata": {
      "needs_background": "light"
     },
     "output_type": "display_data"
    }
   ],
   "source": [
    "make_confusion_matrix(lr,max_precis.iloc[0,0])\n",
    "plt.savefig('LR_Confusion.png')"
   ]
  },
  {
   "cell_type": "markdown",
   "id": "9ceb4e1d",
   "metadata": {},
   "source": [
    "Precision and recall curve versus the probability threshold"
   ]
  },
  {
   "cell_type": "code",
   "execution_count": 35,
   "id": "0bc960b1",
   "metadata": {},
   "outputs": [
    {
     "data": {
      "image/png": "[encoded data removed]",
      "text/plain": [
       "<Figure size 480x320 with 1 Axes>"
      ]
     },
     "metadata": {
      "needs_background": "light"
     },
     "output_type": "display_data"
    }
   ],
   "source": [
    "precision_curve, recall_curve, threshold_curve = precision_recall_curve(y_test, lr.predict_proba(X_testsc)[:,1])\n",
    "\n",
    "plt.figure(dpi=80)\n",
    "plt.plot(threshold_curve, precision_curve[1:],label='Precision')\n",
    "plt.plot(threshold_curve, recall_curve[1:], label='Recall')\n",
    "plt.legend(loc='lower left')\n",
    "plt.xlabel('Threshold (above this probability, label as Exited)');\n",
    "plt.title('Precision and Recall Curves');"
   ]
  },
  {
   "cell_type": "markdown",
   "id": "7b2e37ec",
   "metadata": {},
   "source": [
    "Precision versus recall curve"
   ]
  },
  {
   "cell_type": "code",
   "execution_count": 36,
   "id": "404a7675",
   "metadata": {},
   "outputs": [
    {
     "data": {
      "image/png": "[encoded data removed]",
      "text/plain": [
       "<Figure size 480x320 with 1 Axes>"
      ]
     },
     "metadata": {
      "needs_background": "light"
     },
     "output_type": "display_data"
    }
   ],
   "source": [
    "plt.figure(dpi=80)\n",
    "plt.plot(recall_curve[10:1930], precision_curve[10:1930],label='precision')\n",
    "plt.xlabel(\"Recall\")\n",
    "plt.ylabel(\"Precision\")\n",
    "plt.title(\"Precision-Recall Curve\");"
   ]
  },
  {
   "cell_type": "markdown",
   "id": "a34a512e",
   "metadata": {},
   "source": [
    "Logistic regression features and coeficients showing feature importance "
   ]
  },
  {
   "cell_type": "code",
   "execution_count": 132,
   "id": "e6fd8e30",
   "metadata": {},
   "outputs": [
    {
     "data": {
      "text/html": [
       "<div>\n",
       "<style scoped>\n",
       "    .dataframe tbody tr th:only-of-type {\n",
       "        vertical-align: middle;\n",
       "    }\n",
       "\n",
       "    .dataframe tbody tr th {\n",
       "        vertical-align: top;\n",
       "    }\n",
       "\n",
       "    .dataframe thead th {\n",
       "        text-align: right;\n",
       "    }\n",
       "</style>\n",
       "<table border=\"1\" class=\"dataframe\">\n",
       "  <thead>\n",
       "    <tr style=\"text-align: right;\">\n",
       "      <th></th>\n",
       "      <th>Coefficients</th>\n",
       "      <th>Features</th>\n",
       "    </tr>\n",
       "  </thead>\n",
       "  <tbody>\n",
       "    <tr>\n",
       "      <th>1</th>\n",
       "      <td>0.751085</td>\n",
       "      <td>Age</td>\n",
       "    </tr>\n",
       "    <tr>\n",
       "      <th>8</th>\n",
       "      <td>0.336290</td>\n",
       "      <td>Germany</td>\n",
       "    </tr>\n",
       "    <tr>\n",
       "      <th>6</th>\n",
       "      <td>0.032484</td>\n",
       "      <td>EstimatedSalary</td>\n",
       "    </tr>\n",
       "    <tr>\n",
       "      <th>9</th>\n",
       "      <td>0.019233</td>\n",
       "      <td>Spain</td>\n",
       "    </tr>\n",
       "    <tr>\n",
       "      <th>4</th>\n",
       "      <td>-0.005713</td>\n",
       "      <td>HasCrCard</td>\n",
       "    </tr>\n",
       "    <tr>\n",
       "      <th>10</th>\n",
       "      <td>-0.026585</td>\n",
       "      <td>Mid</td>\n",
       "    </tr>\n",
       "    <tr>\n",
       "      <th>3</th>\n",
       "      <td>-0.026866</td>\n",
       "      <td>NumOfProducts</td>\n",
       "    </tr>\n",
       "    <tr>\n",
       "      <th>2</th>\n",
       "      <td>-0.044067</td>\n",
       "      <td>Tenure</td>\n",
       "    </tr>\n",
       "    <tr>\n",
       "      <th>0</th>\n",
       "      <td>-0.080105</td>\n",
       "      <td>CreditScore</td>\n",
       "    </tr>\n",
       "    <tr>\n",
       "      <th>11</th>\n",
       "      <td>-0.177244</td>\n",
       "      <td>Zero</td>\n",
       "    </tr>\n",
       "    <tr>\n",
       "      <th>7</th>\n",
       "      <td>-0.264829</td>\n",
       "      <td>Male</td>\n",
       "    </tr>\n",
       "    <tr>\n",
       "      <th>5</th>\n",
       "      <td>-0.541593</td>\n",
       "      <td>IsActiveMember</td>\n",
       "    </tr>\n",
       "  </tbody>\n",
       "</table>\n",
       "</div>"
      ],
      "text/plain": [
       "    Coefficients         Features\n",
       "1       0.751085              Age\n",
       "8       0.336290          Germany\n",
       "6       0.032484  EstimatedSalary\n",
       "9       0.019233            Spain\n",
       "4      -0.005713        HasCrCard\n",
       "10     -0.026585              Mid\n",
       "3      -0.026866    NumOfProducts\n",
       "2      -0.044067           Tenure\n",
       "0      -0.080105      CreditScore\n",
       "11     -0.177244             Zero\n",
       "7      -0.264829             Male\n",
       "5      -0.541593   IsActiveMember"
      ]
     },
     "execution_count": 132,
     "metadata": {},
     "output_type": "execute_result"
    }
   ],
   "source": [
    "col = pd.Series(X.columns)\n",
    "coef_df = pd.DataFrame(lr.coef_.reshape(-1,1), columns=['Coefficients'])\n",
    "coef_df = pd.concat([coef_df,col], axis=1)\n",
    "coef_df = coef_df.rename({0:\"Features\"}, axis =1)\n",
    "coef_df.sort_values('Coefficients', ascending = False)"
   ]
  },
  {
   "cell_type": "markdown",
   "id": "0332bd92",
   "metadata": {},
   "source": [
    "ROC curve parameters"
   ]
  },
  {
   "cell_type": "code",
   "execution_count": 45,
   "id": "f5686590",
   "metadata": {},
   "outputs": [],
   "source": [
    "fpr_lr, tpr_lr, thresholds_lr = roc_curve(y_test, lr.predict_proba(X_testsc)[:,1])"
   ]
  },
  {
   "cell_type": "markdown",
   "id": "369982e8",
   "metadata": {},
   "source": [
    "## Decision Tree"
   ]
  },
  {
   "cell_type": "markdown",
   "id": "b0092185",
   "metadata": {},
   "source": [
    "Grid search parameters for basic decision tree"
   ]
  },
  {
   "cell_type": "code",
   "execution_count": 46,
   "id": "77b78668",
   "metadata": {},
   "outputs": [],
   "source": [
    "dc_range = np.arange(2,30)\n",
    "param_grid_dc = dict(max_depth = dc_range, min_samples_split = range(2,15))\n",
    "fbeta_scorer = make_scorer(fbeta_score, beta=0.25)"
   ]
  },
  {
   "cell_type": "code",
   "execution_count": 47,
   "id": "996d05e0",
   "metadata": {},
   "outputs": [
    {
     "data": {
      "text/plain": [
       "GridSearchCV(cv=10, estimator=DecisionTreeClassifier(random_state=711),\n",
       "             param_grid={'max_depth': array([ 2,  3,  4,  5,  6,  7,  8,  9, 10, 11, 12, 13, 14, 15, 16, 17, 18,\n",
       "       19, 20, 21, 22, 23, 24, 25, 26, 27, 28, 29]),\n",
       "                         'min_samples_split': range(2, 15)},\n",
       "             scoring='precision')"
      ]
     },
     "execution_count": 47,
     "metadata": {},
     "output_type": "execute_result"
    }
   ],
   "source": [
    "gridcv_dc = GridSearchCV(DecisionTreeClassifier(random_state=711), param_grid_dc, cv=10, scoring = 'precision')\n",
    "gridcv_dc.fit(X_trainsc, y_train)"
   ]
  },
  {
   "cell_type": "code",
   "execution_count": 48,
   "id": "9dc16f2f",
   "metadata": {},
   "outputs": [
    {
     "name": "stdout",
     "output_type": "stream",
     "text": [
      "Best params:  {'max_depth': 3, 'min_samples_split': 2}\n",
      "Best estimator:  DecisionTreeClassifier(max_depth=3, random_state=711)\n",
      "Best score:  0.863554537417804\n"
     ]
    }
   ],
   "source": [
    "print(\"Best params: \", gridcv_dc.best_params_)\n",
    "print(\"Best estimator: \", gridcv_dc.best_estimator_)\n",
    "print(\"Best score: \", gridcv_dc.best_score_)"
   ]
  },
  {
   "cell_type": "markdown",
   "id": "37082a5f",
   "metadata": {},
   "source": [
    "Train a Decision Tree model with the best model parameters form the grid search"
   ]
  },
  {
   "cell_type": "code",
   "execution_count": 49,
   "id": "99967e24",
   "metadata": {},
   "outputs": [
    {
     "name": "stdout",
     "output_type": "stream",
     "text": [
      "DC Training Score: 84.25%\n",
      "DC Test Score: 82.95%\n"
     ]
    }
   ],
   "source": [
    "dc = DecisionTreeClassifier(max_depth = gridcv_dc.best_params_['max_depth'],\n",
    "                            min_samples_split=gridcv_dc.best_params_['min_samples_split'], random_state = 711)\n",
    "dc.fit(X_trainsc, y_train)\n",
    "dc_train_score = dc.score(X_trainsc, y_train)\n",
    "dc_test_score = dc.score(X_testsc,y_test)\n",
    "print(\"DC Training Score: {:.2f}%\".format(100*dc_train_score))\n",
    "print(\"DC Test Score: {:.2f}%\".format(100*dc_test_score))"
   ]
  },
  {
   "cell_type": "code",
   "execution_count": 50,
   "id": "1b23c670",
   "metadata": {
    "scrolled": true
   },
   "outputs": [
    {
     "data": {
      "image/png": "[encoded data removed]",
      "text/plain": [
       "<Figure size 432x288 with 2 Axes>"
      ]
     },
     "metadata": {
      "needs_background": "light"
     },
     "output_type": "display_data"
    }
   ],
   "source": [
    "dc_confusion = confusion_matrix(y_test, dc.predict(X_testsc))\n",
    "sns.heatmap(dc_confusion, cmap=\"Greens\", annot=True, square=True,fmt='g', \n",
    "            xticklabels=['Retained', 'Exited'], \n",
    "            yticklabels=['Retained', 'Exited'])\n",
    "plt.xlabel('Predicted')\n",
    "plt.ylabel('Actual')\n",
    "plt.title('Decision Tree Classifier Confusion Matrix');\n",
    "plt.savefig('DC_Confusion.png')"
   ]
  },
  {
   "cell_type": "code",
   "execution_count": 51,
   "id": "ed66538f",
   "metadata": {},
   "outputs": [
    {
     "name": "stdout",
     "output_type": "stream",
     "text": [
      "DC F-Beta:0.693 DC Precision:0.806 DC Recall:0.214\n"
     ]
    }
   ],
   "source": [
    "dc_fbeta = fbeta_score(y_test, dc.predict(X_testsc), beta=0.25)\n",
    "dc_precision = precision_score(y_test, dc.predict(X_testsc))\n",
    "dc_recall = recall_score(y_test, dc.predict(X_testsc))\n",
    "print(\"DC F-Beta:{:.3f} DC Precision:{:.3f} DC Recall:{:.3f}\".format(dc_fbeta, dc_precision, dc_recall))"
   ]
  },
  {
   "cell_type": "code",
   "execution_count": 131,
   "id": "a0d53098",
   "metadata": {},
   "outputs": [
    {
     "data": {
      "image/png": "[encoded data removed]",
      "text/plain": [
       "<Figure size 480x320 with 1 Axes>"
      ]
     },
     "metadata": {
      "needs_background": "light"
     },
     "output_type": "display_data"
    }
   ],
   "source": [
    "precision_curve_dc, recall_curve_dc, threshold_curve_dc = precision_recall_curve(y_test, dc.predict_proba(X_testsc)[:,1] )\n",
    "plt.figure(dpi=80)\n",
    "plt.plot(threshold_curve_dc, precision_curve_dc[1:],label='Precision')\n",
    "plt.plot(threshold_curve_dc, recall_curve_dc[1:], label='Recall')\n",
    "plt.legend(loc='lower left')\n",
    "plt.xlabel('Threshold (above this probability, label as Exited)');\n",
    "plt.title('Precision and Recall Curves');"
   ]
  },
  {
   "cell_type": "markdown",
   "id": "6b5672ab",
   "metadata": {},
   "source": [
    "Descision Tree features and coeficients showing feature importance"
   ]
  },
  {
   "cell_type": "code",
   "execution_count": 53,
   "id": "240ee659",
   "metadata": {},
   "outputs": [
    {
     "data": {
      "text/html": [
       "<div>\n",
       "<style scoped>\n",
       "    .dataframe tbody tr th:only-of-type {\n",
       "        vertical-align: middle;\n",
       "    }\n",
       "\n",
       "    .dataframe tbody tr th {\n",
       "        vertical-align: top;\n",
       "    }\n",
       "\n",
       "    .dataframe thead th {\n",
       "        text-align: right;\n",
       "    }\n",
       "</style>\n",
       "<table border=\"1\" class=\"dataframe\">\n",
       "  <thead>\n",
       "    <tr style=\"text-align: right;\">\n",
       "      <th></th>\n",
       "      <th>Coefficients</th>\n",
       "      <th>Features</th>\n",
       "    </tr>\n",
       "  </thead>\n",
       "  <tbody>\n",
       "    <tr>\n",
       "      <th>1</th>\n",
       "      <td>0.514437</td>\n",
       "      <td>Age</td>\n",
       "    </tr>\n",
       "    <tr>\n",
       "      <th>3</th>\n",
       "      <td>0.294078</td>\n",
       "      <td>NumOfProducts</td>\n",
       "    </tr>\n",
       "    <tr>\n",
       "      <th>5</th>\n",
       "      <td>0.176170</td>\n",
       "      <td>IsActiveMember</td>\n",
       "    </tr>\n",
       "    <tr>\n",
       "      <th>11</th>\n",
       "      <td>0.015315</td>\n",
       "      <td>Zero</td>\n",
       "    </tr>\n",
       "    <tr>\n",
       "      <th>0</th>\n",
       "      <td>0.000000</td>\n",
       "      <td>CreditScore</td>\n",
       "    </tr>\n",
       "    <tr>\n",
       "      <th>2</th>\n",
       "      <td>0.000000</td>\n",
       "      <td>Tenure</td>\n",
       "    </tr>\n",
       "    <tr>\n",
       "      <th>4</th>\n",
       "      <td>0.000000</td>\n",
       "      <td>HasCrCard</td>\n",
       "    </tr>\n",
       "    <tr>\n",
       "      <th>6</th>\n",
       "      <td>0.000000</td>\n",
       "      <td>EstimatedSalary</td>\n",
       "    </tr>\n",
       "    <tr>\n",
       "      <th>7</th>\n",
       "      <td>0.000000</td>\n",
       "      <td>Male</td>\n",
       "    </tr>\n",
       "    <tr>\n",
       "      <th>8</th>\n",
       "      <td>0.000000</td>\n",
       "      <td>Germany</td>\n",
       "    </tr>\n",
       "    <tr>\n",
       "      <th>9</th>\n",
       "      <td>0.000000</td>\n",
       "      <td>Spain</td>\n",
       "    </tr>\n",
       "    <tr>\n",
       "      <th>10</th>\n",
       "      <td>0.000000</td>\n",
       "      <td>Mid</td>\n",
       "    </tr>\n",
       "  </tbody>\n",
       "</table>\n",
       "</div>"
      ],
      "text/plain": [
       "    Coefficients         Features\n",
       "1       0.514437              Age\n",
       "3       0.294078    NumOfProducts\n",
       "5       0.176170   IsActiveMember\n",
       "11      0.015315             Zero\n",
       "0       0.000000      CreditScore\n",
       "2       0.000000           Tenure\n",
       "4       0.000000        HasCrCard\n",
       "6       0.000000  EstimatedSalary\n",
       "7       0.000000             Male\n",
       "8       0.000000          Germany\n",
       "9       0.000000            Spain\n",
       "10      0.000000              Mid"
      ]
     },
     "execution_count": 53,
     "metadata": {},
     "output_type": "execute_result"
    }
   ],
   "source": [
    "col = pd.Series(X.columns)\n",
    "coef_df = pd.DataFrame(dc.feature_importances_.reshape(-1,1), columns=['Coefficients'])\n",
    "coef_df = pd.concat([coef_df,col], axis=1)\n",
    "coef_df = coef_df.rename({0:\"Features\"}, axis =1)\n",
    "coef_df.sort_values('Coefficients', ascending = False)"
   ]
  },
  {
   "cell_type": "markdown",
   "id": "41a318f9",
   "metadata": {},
   "source": [
    "ROC curve parameters"
   ]
  },
  {
   "cell_type": "code",
   "execution_count": 130,
   "id": "0494fcff",
   "metadata": {},
   "outputs": [],
   "source": [
    "fpr_dc, tpr_dc, thresholds_dc = roc_curve(y_test, dc.predict_proba(X_testsc)[:,1])"
   ]
  },
  {
   "cell_type": "markdown",
   "id": "a793da58",
   "metadata": {},
   "source": [
    "## Random Forest"
   ]
  },
  {
   "cell_type": "markdown",
   "id": "166fdf35",
   "metadata": {},
   "source": [
    "Random forest grid search parameters"
   ]
  },
  {
   "cell_type": "code",
   "execution_count": 55,
   "id": "b78fe999",
   "metadata": {},
   "outputs": [],
   "source": [
    "rf_range = np.arange(1,40)\n",
    "md_range = np.arange(2,15)\n",
    "param_grid_rf = dict(n_estimators = rf_range, max_depth=md_range)\n",
    "fbeta_scorer = make_scorer(fbeta_score, beta=0.25)"
   ]
  },
  {
   "cell_type": "code",
   "execution_count": 56,
   "id": "b590a042",
   "metadata": {},
   "outputs": [
    {
     "data": {
      "text/plain": [
       "GridSearchCV(cv=5, estimator=RandomForestClassifier(random_state=711),\n",
       "             param_grid={'max_depth': array([ 2,  3,  4,  5,  6,  7,  8,  9, 10, 11, 12, 13, 14]),\n",
       "                         'n_estimators': array([ 1,  2,  3,  4,  5,  6,  7,  8,  9, 10, 11, 12, 13, 14, 15, 16, 17,\n",
       "       18, 19, 20, 21, 22, 23, 24, 25, 26, 27, 28, 29, 30, 31, 32, 33, 34,\n",
       "       35, 36, 37, 38, 39])},\n",
       "             scoring=make_scorer(fbeta_score, beta=0.25))"
      ]
     },
     "execution_count": 56,
     "metadata": {},
     "output_type": "execute_result"
    }
   ],
   "source": [
    "gridcv_rf = GridSearchCV(RandomForestClassifier(random_state=711), param_grid_rf, cv=5, scoring = fbeta_scorer)\n",
    "gridcv_rf.fit(X_trainsc, y_train)"
   ]
  },
  {
   "cell_type": "code",
   "execution_count": 57,
   "id": "f4ce1877",
   "metadata": {
    "scrolled": true
   },
   "outputs": [
    {
     "name": "stdout",
     "output_type": "stream",
     "text": [
      "Best params:  {'max_depth': 5, 'n_estimators': 28}\n",
      "Best estimator:  RandomForestClassifier(max_depth=5, n_estimators=28, random_state=711)\n",
      "Best score:  0.8012472650759366\n"
     ]
    }
   ],
   "source": [
    "print(\"Best params: \", gridcv_rf.best_params_)\n",
    "print(\"Best estimator: \", gridcv_rf.best_estimator_)\n",
    "print(\"Best score: \", gridcv_rf.best_score_)"
   ]
  },
  {
   "cell_type": "markdown",
   "id": "f30fbead",
   "metadata": {},
   "source": [
    "Train a Random Forest model with the best parameters from the grid search"
   ]
  },
  {
   "cell_type": "code",
   "execution_count": 58,
   "id": "2468f9c6",
   "metadata": {},
   "outputs": [
    {
     "name": "stdout",
     "output_type": "stream",
     "text": [
      "RF Training Score: 85.56%\n",
      "RF Test Score: 83.70%\n"
     ]
    }
   ],
   "source": [
    "rf = RandomForestClassifier(n_estimators=gridcv_rf.best_params_['n_estimators'],max_depth =gridcv_rf.best_params_['max_depth'], random_state=711)\n",
    "rf.fit(X_trainsc, y_train)\n",
    "\n",
    "rf_train_score = rf.score(X_trainsc, y_train)\n",
    "rf_test_score = rf.score(X_testsc,y_test)\n",
    "print(\"RF Training Score: {:.2f}%\".format(100*rf_train_score))\n",
    "print(\"RF Test Score: {:.2f}%\".format(100*rf_test_score))"
   ]
  },
  {
   "cell_type": "code",
   "execution_count": 59,
   "id": "8d096f80",
   "metadata": {},
   "outputs": [
    {
     "data": {
      "image/png": "[encoded data removed]",
      "text/plain": [
       "<Figure size 432x288 with 2 Axes>"
      ]
     },
     "metadata": {
      "needs_background": "light"
     },
     "output_type": "display_data"
    }
   ],
   "source": [
    "rf_confusion = confusion_matrix(y_test, rf.predict(X_testsc))\n",
    "sns.heatmap(rf_confusion, cmap=\"Greens\", annot=True, square=True,fmt='g', \n",
    "            xticklabels=['Retained', 'Exited'], \n",
    "            yticklabels=['Retained', 'Exited'])\n",
    "plt.xlabel('Predicted')\n",
    "plt.ylabel('Actual')\n",
    "plt.title('Random Forest Classifier Confusion Matrix');\n",
    "plt.savefig('RF_Confusion.png')"
   ]
  },
  {
   "cell_type": "code",
   "execution_count": 60,
   "id": "4c596a04",
   "metadata": {},
   "outputs": [
    {
     "name": "stdout",
     "output_type": "stream",
     "text": [
      "RF F-Beta:0.727 RF Precision:0.824 RF Recall:0.253\n"
     ]
    }
   ],
   "source": [
    "rf_fbeta = fbeta_score(y_test, rf.predict(X_testsc), beta=0.25)\n",
    "rf_precision = precision_score(y_test, rf.predict(X_testsc))\n",
    "rf_recall = recall_score(y_test, rf.predict(X_testsc))\n",
    "print(\"RF F-Beta:{:.3f} RF Precision:{:.3f} RF Recall:{:.3f}\".format(rf_fbeta, rf_precision, rf_recall))"
   ]
  },
  {
   "cell_type": "code",
   "execution_count": 129,
   "id": "1b084f52",
   "metadata": {},
   "outputs": [
    {
     "data": {
      "image/png": "[encoded data removed]",
      "text/plain": [
       "<Figure size 480x320 with 1 Axes>"
      ]
     },
     "metadata": {
      "needs_background": "light"
     },
     "output_type": "display_data"
    }
   ],
   "source": [
    "precision_curve_rf, recall_curve_rf, threshold_curve_rf = precision_recall_curve(y_test, rf.predict_proba(X_testsc)[:,1] )\n",
    "plt.figure(dpi=80)\n",
    "plt.plot(threshold_curve_rf, precision_curve_rf[1:],label='Precision')\n",
    "plt.plot(threshold_curve_rf, recall_curve_rf[1:], label='Recall')\n",
    "plt.legend(loc='lower left')\n",
    "plt.xlabel('Threshold (above this probability, label as Exited)');\n",
    "plt.title('Precision and Recall Curves');"
   ]
  },
  {
   "cell_type": "markdown",
   "id": "6d78b8b5",
   "metadata": {},
   "source": [
    "Random Forest features and coeficients showing feature importance"
   ]
  },
  {
   "cell_type": "code",
   "execution_count": 62,
   "id": "79a78542",
   "metadata": {},
   "outputs": [
    {
     "data": {
      "text/html": [
       "<div>\n",
       "<style scoped>\n",
       "    .dataframe tbody tr th:only-of-type {\n",
       "        vertical-align: middle;\n",
       "    }\n",
       "\n",
       "    .dataframe tbody tr th {\n",
       "        vertical-align: top;\n",
       "    }\n",
       "\n",
       "    .dataframe thead th {\n",
       "        text-align: right;\n",
       "    }\n",
       "</style>\n",
       "<table border=\"1\" class=\"dataframe\">\n",
       "  <thead>\n",
       "    <tr style=\"text-align: right;\">\n",
       "      <th></th>\n",
       "      <th>Coefficients</th>\n",
       "      <th>Features</th>\n",
       "    </tr>\n",
       "  </thead>\n",
       "  <tbody>\n",
       "    <tr>\n",
       "      <th>1</th>\n",
       "      <td>0.420250</td>\n",
       "      <td>Age</td>\n",
       "    </tr>\n",
       "    <tr>\n",
       "      <th>3</th>\n",
       "      <td>0.333974</td>\n",
       "      <td>NumOfProducts</td>\n",
       "    </tr>\n",
       "    <tr>\n",
       "      <th>5</th>\n",
       "      <td>0.082613</td>\n",
       "      <td>IsActiveMember</td>\n",
       "    </tr>\n",
       "    <tr>\n",
       "      <th>8</th>\n",
       "      <td>0.069595</td>\n",
       "      <td>Germany</td>\n",
       "    </tr>\n",
       "    <tr>\n",
       "      <th>0</th>\n",
       "      <td>0.024544</td>\n",
       "      <td>CreditScore</td>\n",
       "    </tr>\n",
       "    <tr>\n",
       "      <th>11</th>\n",
       "      <td>0.023639</td>\n",
       "      <td>Zero</td>\n",
       "    </tr>\n",
       "    <tr>\n",
       "      <th>7</th>\n",
       "      <td>0.016638</td>\n",
       "      <td>Male</td>\n",
       "    </tr>\n",
       "    <tr>\n",
       "      <th>6</th>\n",
       "      <td>0.013875</td>\n",
       "      <td>EstimatedSalary</td>\n",
       "    </tr>\n",
       "    <tr>\n",
       "      <th>2</th>\n",
       "      <td>0.005854</td>\n",
       "      <td>Tenure</td>\n",
       "    </tr>\n",
       "    <tr>\n",
       "      <th>9</th>\n",
       "      <td>0.003768</td>\n",
       "      <td>Spain</td>\n",
       "    </tr>\n",
       "    <tr>\n",
       "      <th>10</th>\n",
       "      <td>0.003639</td>\n",
       "      <td>Mid</td>\n",
       "    </tr>\n",
       "    <tr>\n",
       "      <th>4</th>\n",
       "      <td>0.001612</td>\n",
       "      <td>HasCrCard</td>\n",
       "    </tr>\n",
       "  </tbody>\n",
       "</table>\n",
       "</div>"
      ],
      "text/plain": [
       "    Coefficients         Features\n",
       "1       0.420250              Age\n",
       "3       0.333974    NumOfProducts\n",
       "5       0.082613   IsActiveMember\n",
       "8       0.069595          Germany\n",
       "0       0.024544      CreditScore\n",
       "11      0.023639             Zero\n",
       "7       0.016638             Male\n",
       "6       0.013875  EstimatedSalary\n",
       "2       0.005854           Tenure\n",
       "9       0.003768            Spain\n",
       "10      0.003639              Mid\n",
       "4       0.001612        HasCrCard"
      ]
     },
     "execution_count": 62,
     "metadata": {},
     "output_type": "execute_result"
    }
   ],
   "source": [
    "col = pd.Series(X.columns)\n",
    "coef_df = pd.DataFrame(rf.feature_importances_.reshape(-1,1), columns=['Coefficients'])\n",
    "coef_df = pd.concat([coef_df,col], axis=1)\n",
    "coef_df = coef_df.rename({0:\"Features\"}, axis =1)\n",
    "coef_df.sort_values('Coefficients', ascending = False)"
   ]
  },
  {
   "cell_type": "markdown",
   "id": "42fc95f0",
   "metadata": {},
   "source": [
    "ROC curve parameters"
   ]
  },
  {
   "cell_type": "code",
   "execution_count": 128,
   "id": "9d1ea9b7",
   "metadata": {},
   "outputs": [],
   "source": [
    "fpr_rf, tpr_rf, thresholds_rf = roc_curve(y_test, rf.predict_proba(X_testsc)[:,1])"
   ]
  },
  {
   "cell_type": "markdown",
   "id": "97e35c0e",
   "metadata": {},
   "source": [
    "## XGBOOST"
   ]
  },
  {
   "cell_type": "code",
   "execution_count": 65,
   "id": "40567187",
   "metadata": {},
   "outputs": [],
   "source": [
    "import xgboost\n",
    "from sklearn.model_selection import RandomizedSearchCV"
   ]
  },
  {
   "cell_type": "code",
   "execution_count": 66,
   "id": "6ec34f45",
   "metadata": {},
   "outputs": [],
   "source": [
    "xgb = xgboost.XGBClassifier(use_label_encoder=False, eval_metric='auc')"
   ]
  },
  {
   "cell_type": "code",
   "execution_count": 67,
   "id": "75c741d9",
   "metadata": {},
   "outputs": [
    {
     "data": {
      "text/plain": [
       "XGBClassifier(base_score=0.5, booster='gbtree', colsample_bylevel=1,\n",
       "              colsample_bynode=1, colsample_bytree=1, eval_metric='auc',\n",
       "              gamma=0, gpu_id=-1, importance_type='gain',\n",
       "              interaction_constraints='', learning_rate=0.300000012,\n",
       "              max_delta_step=0, max_depth=6, min_child_weight=1, missing=nan,\n",
       "              monotone_constraints='()', n_estimators=100, n_jobs=12,\n",
       "              num_parallel_tree=1, random_state=0, reg_alpha=0, reg_lambda=1,\n",
       "              scale_pos_weight=1, subsample=1, tree_method='exact',\n",
       "              use_label_encoder=False, validate_parameters=1, verbosity=None)"
      ]
     },
     "execution_count": 67,
     "metadata": {},
     "output_type": "execute_result"
    }
   ],
   "source": [
    "xgb.fit(X_trainsc, y_train)"
   ]
  },
  {
   "cell_type": "code",
   "execution_count": 68,
   "id": "3d5913a8",
   "metadata": {},
   "outputs": [
    {
     "name": "stdout",
     "output_type": "stream",
     "text": [
      "RF Training Score: 94.39%\n",
      "RF Test Score: 85.15%\n"
     ]
    }
   ],
   "source": [
    "xgb_train_score = xgb.score(X_trainsc, y_train)\n",
    "xgb_test_score = xgb.score(X_testsc,y_test)\n",
    "print(\"RF Training Score: {:.2f}%\".format(100*xgb_train_score))\n",
    "print(\"RF Test Score: {:.2f}%\".format(100*xgb_test_score))"
   ]
  },
  {
   "cell_type": "code",
   "execution_count": 70,
   "id": "c1d788dd",
   "metadata": {},
   "outputs": [],
   "source": [
    "params = {\n",
    "    \"max_depth\": [2, 3, 4, 5, 6, 8, 10, 12, 15],\n",
    "    \"learning_rate\": [0.5, 0.10, 0.15, 0.20, 0.25, 0.30],\n",
    "    \"min_child_weight\": [1, 3, 5, 7],\n",
    "    \"gamma\": [0.0, 0.1, 0.2, 0.3, 0.4],\n",
    "    \"colsample_bytree\": [0.3, 0.4, 0.5, 0.7]\n",
    "}\n",
    "\n"
   ]
  },
  {
   "cell_type": "code",
   "execution_count": 116,
   "id": "4638d699",
   "metadata": {},
   "outputs": [],
   "source": [
    "random_cv = RandomizedSearchCV(xgb, param_distributions=params, n_iter=10, scoring='accuracy', n_jobs=1, cv=5, verbose=1)\n",
    "\n"
   ]
  },
  {
   "cell_type": "code",
   "execution_count": 117,
   "id": "78f95dca",
   "metadata": {},
   "outputs": [
    {
     "name": "stdout",
     "output_type": "stream",
     "text": [
      "Fitting 5 folds for each of 10 candidates, totalling 50 fits\n"
     ]
    },
    {
     "data": {
      "text/plain": [
       "RandomizedSearchCV(cv=5,\n",
       "                   estimator=XGBClassifier(base_score=0.5, booster='gbtree',\n",
       "                                           colsample_bylevel=1,\n",
       "                                           colsample_bynode=1,\n",
       "                                           colsample_bytree=1,\n",
       "                                           eval_metric='auc', gamma=0,\n",
       "                                           gpu_id=-1, importance_type='gain',\n",
       "                                           interaction_constraints='',\n",
       "                                           learning_rate=0.300000012,\n",
       "                                           max_delta_step=0, max_depth=6,\n",
       "                                           min_child_weight=1, missing=nan,\n",
       "                                           monotone_constraints='()',\n",
       "                                           n_estimators=1...\n",
       "                                           reg_alpha=0, reg_lambda=1,\n",
       "                                           scale_pos_weight=1, subsample=1,\n",
       "                                           tree_method='exact',\n",
       "                                           use_label_encoder=False,\n",
       "                                           validate_parameters=1,\n",
       "                                           verbosity=None),\n",
       "                   n_jobs=1,\n",
       "                   param_distributions={'colsample_bytree': [0.3, 0.4, 0.5,\n",
       "                                                             0.7],\n",
       "                                        'gamma': [0.0, 0.1, 0.2, 0.3, 0.4],\n",
       "                                        'learning_rate': [0.5, 0.1, 0.15, 0.2,\n",
       "                                                          0.25, 0.3],\n",
       "                                        'max_depth': [2, 3, 4, 5, 6, 8, 10, 12,\n",
       "                                                      15],\n",
       "                                        'min_child_weight': [1, 3, 5, 7]},\n",
       "                   scoring='accuracy', verbose=1)"
      ]
     },
     "execution_count": 117,
     "metadata": {},
     "output_type": "execute_result"
    }
   ],
   "source": [
    "random_cv.fit(X_trainsc,y_train)"
   ]
  },
  {
   "cell_type": "code",
   "execution_count": 118,
   "id": "fe85689e",
   "metadata": {},
   "outputs": [
    {
     "name": "stdout",
     "output_type": "stream",
     "text": [
      "Best params:  {'min_child_weight': 5, 'max_depth': 4, 'learning_rate': 0.15, 'gamma': 0.0, 'colsample_bytree': 0.4}\n",
      "Best estimator:  XGBClassifier(base_score=0.5, booster='gbtree', colsample_bylevel=1,\n",
      "              colsample_bynode=1, colsample_bytree=0.4, eval_metric='auc',\n",
      "              gamma=0.0, gpu_id=-1, importance_type='gain',\n",
      "              interaction_constraints='', learning_rate=0.15, max_delta_step=0,\n",
      "              max_depth=4, min_child_weight=5, missing=nan,\n",
      "              monotone_constraints='()', n_estimators=100, n_jobs=12,\n",
      "              num_parallel_tree=1, random_state=0, reg_alpha=0, reg_lambda=1,\n",
      "              scale_pos_weight=1, subsample=1, tree_method='exact',\n",
      "              use_label_encoder=False, validate_parameters=1, verbosity=None)\n",
      "Best score:  0.863875\n"
     ]
    }
   ],
   "source": [
    "print(\"Best params: \", random_cv.best_params_)\n",
    "print(\"Best estimator: \", random_cv.best_estimator_)\n",
    "print(\"Best score: \", random_cv.best_score_)"
   ]
  },
  {
   "cell_type": "code",
   "execution_count": 120,
   "id": "710bb58f",
   "metadata": {},
   "outputs": [],
   "source": [
    "xgb_class = xgboost.XGBClassifier(base_score=0.5, booster='gbtree', colsample_bylevel=1,\n",
    "              colsample_bynode=1, colsample_bytree=0.4, eval_metric='auc',\n",
    "              gamma=0.0, gpu_id=-1, importance_type='gain',\n",
    "              interaction_constraints='', learning_rate=0.15, max_delta_step=0,\n",
    "              max_depth=4, min_child_weight=5, \n",
    "              monotone_constraints='()', n_estimators=100, n_jobs=12,\n",
    "              num_parallel_tree=1, random_state=0, reg_alpha=0, reg_lambda=1,\n",
    "              scale_pos_weight=1, subsample=1, tree_method='exact',\n",
    "              use_label_encoder=False, validate_parameters=1, verbosity=None)"
   ]
  },
  {
   "cell_type": "code",
   "execution_count": 121,
   "id": "4462186a",
   "metadata": {},
   "outputs": [
    {
     "data": {
      "text/plain": [
       "XGBClassifier(base_score=0.5, booster='gbtree', colsample_bylevel=1,\n",
       "              colsample_bynode=1, colsample_bytree=0.4, eval_metric='auc',\n",
       "              gamma=0.0, gpu_id=-1, importance_type='gain',\n",
       "              interaction_constraints='', learning_rate=0.15, max_delta_step=0,\n",
       "              max_depth=4, min_child_weight=5, missing=nan,\n",
       "              monotone_constraints='()', n_estimators=100, n_jobs=12,\n",
       "              num_parallel_tree=1, random_state=0, reg_alpha=0, reg_lambda=1,\n",
       "              scale_pos_weight=1, subsample=1, tree_method='exact',\n",
       "              use_label_encoder=False, validate_parameters=1, verbosity=None)"
      ]
     },
     "execution_count": 121,
     "metadata": {},
     "output_type": "execute_result"
    }
   ],
   "source": [
    "xgb_class.fit(X_trainsc, y_train)"
   ]
  },
  {
   "cell_type": "code",
   "execution_count": 122,
   "id": "bfa0a23d",
   "metadata": {},
   "outputs": [
    {
     "name": "stdout",
     "output_type": "stream",
     "text": [
      "RF Training Score: 87.66%\n",
      "RF Test Score: 85.65%\n"
     ]
    }
   ],
   "source": [
    "xgb_train_score = xgb_class.score(X_trainsc, y_train)\n",
    "xgb_test_score = xgb_class.score(X_testsc,y_test)\n",
    "print(\"RF Training Score: {:.2f}%\".format(100*xgb_train_score))\n",
    "print(\"RF Test Score: {:.2f}%\".format(100*xgb_test_score))"
   ]
  },
  {
   "cell_type": "code",
   "execution_count": 123,
   "id": "0657488e",
   "metadata": {},
   "outputs": [
    {
     "data": {
      "image/png": "[encoded data removed]",
      "text/plain": [
       "<Figure size 432x288 with 2 Axes>"
      ]
     },
     "metadata": {
      "needs_background": "light"
     },
     "output_type": "display_data"
    }
   ],
   "source": [
    "xgb_confusion = confusion_matrix(y_test, xgb_class.predict(X_testsc))\n",
    "sns.heatmap(xgb_confusion, cmap=\"Greens\", annot=True, square=True,fmt='g', \n",
    "            xticklabels=['Retained', 'Exited'], \n",
    "            yticklabels=['Retained', 'Exited'])\n",
    "plt.xlabel('Predicted')\n",
    "plt.ylabel('Actual')\n",
    "plt.title('XG Boost Classifier Confusion Matrix');\n",
    "plt.savefig('XGB_Confusion.png')"
   ]
  },
  {
   "cell_type": "code",
   "execution_count": 124,
   "id": "181385eb",
   "metadata": {},
   "outputs": [
    {
     "name": "stdout",
     "output_type": "stream",
     "text": [
      "XGB F Beta:0.551 XGB Precision:0.759 XGB Recall:0.432\n"
     ]
    }
   ],
   "source": [
    "xgb_fbeta = fbeta_score(y_test, xgb_class.predict(X_testsc), beta=1)\n",
    "xgb_precision = precision_score(y_test, xgb_class.predict(X_testsc))\n",
    "xgb_recall = recall_score(y_test, xgb_class.predict(X_testsc))\n",
    "print(\"XGB F Beta:{:.3f} XGB Precision:{:.3f} XGB Recall:{:.3f}\".format(xgb_fbeta,xgb_precision,xgb_recall))"
   ]
  },
  {
   "cell_type": "code",
   "execution_count": 125,
   "id": "929c8bde",
   "metadata": {
    "scrolled": true
   },
   "outputs": [
    {
     "data": {
      "image/png": "[encoded data removed]",
      "text/plain": [
       "<Figure size 480x320 with 1 Axes>"
      ]
     },
     "metadata": {
      "needs_background": "light"
     },
     "output_type": "display_data"
    }
   ],
   "source": [
    "precision_curve_xgb, recall_curve_xgb, threshold_curve_xgb = precision_recall_curve(y_test, xgb_class.predict_proba(X_testsc)[:,1] )\n",
    "plt.figure(dpi=80)\n",
    "plt.plot(threshold_curve_xgb, precision_curve_xgb[1:],label='Precision')\n",
    "plt.plot(threshold_curve_xgb, recall_curve_xgb[1:], label='Recall')\n",
    "plt.legend(loc='lower left')\n",
    "plt.xlabel('Threshold (above this probability, label as Exited)');\n",
    "plt.title('Precision and Recall Curves');"
   ]
  },
  {
   "cell_type": "markdown",
   "id": "cfeb2de9",
   "metadata": {},
   "source": [
    "XG Boost features and coeficients showing feature importance"
   ]
  },
  {
   "cell_type": "code",
   "execution_count": 126,
   "id": "12353666",
   "metadata": {},
   "outputs": [
    {
     "data": {
      "text/html": [
       "<div>\n",
       "<style scoped>\n",
       "    .dataframe tbody tr th:only-of-type {\n",
       "        vertical-align: middle;\n",
       "    }\n",
       "\n",
       "    .dataframe tbody tr th {\n",
       "        vertical-align: top;\n",
       "    }\n",
       "\n",
       "    .dataframe thead th {\n",
       "        text-align: right;\n",
       "    }\n",
       "</style>\n",
       "<table border=\"1\" class=\"dataframe\">\n",
       "  <thead>\n",
       "    <tr style=\"text-align: right;\">\n",
       "      <th></th>\n",
       "      <th>Coefficients</th>\n",
       "      <th>Features</th>\n",
       "    </tr>\n",
       "  </thead>\n",
       "  <tbody>\n",
       "    <tr>\n",
       "      <th>3</th>\n",
       "      <td>0.382432</td>\n",
       "      <td>NumOfProducts</td>\n",
       "    </tr>\n",
       "    <tr>\n",
       "      <th>1</th>\n",
       "      <td>0.173112</td>\n",
       "      <td>Age</td>\n",
       "    </tr>\n",
       "    <tr>\n",
       "      <th>5</th>\n",
       "      <td>0.114730</td>\n",
       "      <td>IsActiveMember</td>\n",
       "    </tr>\n",
       "    <tr>\n",
       "      <th>8</th>\n",
       "      <td>0.096228</td>\n",
       "      <td>Germany</td>\n",
       "    </tr>\n",
       "    <tr>\n",
       "      <th>11</th>\n",
       "      <td>0.073141</td>\n",
       "      <td>Zero</td>\n",
       "    </tr>\n",
       "    <tr>\n",
       "      <th>7</th>\n",
       "      <td>0.056143</td>\n",
       "      <td>Male</td>\n",
       "    </tr>\n",
       "    <tr>\n",
       "      <th>0</th>\n",
       "      <td>0.023605</td>\n",
       "      <td>CreditScore</td>\n",
       "    </tr>\n",
       "    <tr>\n",
       "      <th>6</th>\n",
       "      <td>0.022113</td>\n",
       "      <td>EstimatedSalary</td>\n",
       "    </tr>\n",
       "    <tr>\n",
       "      <th>9</th>\n",
       "      <td>0.018823</td>\n",
       "      <td>Spain</td>\n",
       "    </tr>\n",
       "    <tr>\n",
       "      <th>2</th>\n",
       "      <td>0.016951</td>\n",
       "      <td>Tenure</td>\n",
       "    </tr>\n",
       "    <tr>\n",
       "      <th>10</th>\n",
       "      <td>0.015219</td>\n",
       "      <td>Mid</td>\n",
       "    </tr>\n",
       "    <tr>\n",
       "      <th>4</th>\n",
       "      <td>0.007504</td>\n",
       "      <td>HasCrCard</td>\n",
       "    </tr>\n",
       "  </tbody>\n",
       "</table>\n",
       "</div>"
      ],
      "text/plain": [
       "    Coefficients         Features\n",
       "3       0.382432    NumOfProducts\n",
       "1       0.173112              Age\n",
       "5       0.114730   IsActiveMember\n",
       "8       0.096228          Germany\n",
       "11      0.073141             Zero\n",
       "7       0.056143             Male\n",
       "0       0.023605      CreditScore\n",
       "6       0.022113  EstimatedSalary\n",
       "9       0.018823            Spain\n",
       "2       0.016951           Tenure\n",
       "10      0.015219              Mid\n",
       "4       0.007504        HasCrCard"
      ]
     },
     "execution_count": 126,
     "metadata": {},
     "output_type": "execute_result"
    }
   ],
   "source": [
    "col = pd.Series(X.columns)\n",
    "coef_df = pd.DataFrame(xgb_class.feature_importances_.reshape(-1,1), columns=['Coefficients'])\n",
    "coef_df = pd.concat([coef_df,col], axis=1)\n",
    "coef_df = coef_df.rename({0:\"Features\"}, axis =1)\n",
    "coef_df.sort_values('Coefficients', ascending = False)"
   ]
  },
  {
   "cell_type": "markdown",
   "id": "3c3da102",
   "metadata": {},
   "source": [
    "ROC curve parameters"
   ]
  },
  {
   "cell_type": "code",
   "execution_count": 111,
   "id": "0bc380b8",
   "metadata": {},
   "outputs": [],
   "source": [
    "fpr_xgb, tpr_xgb, thresholds_xgb = roc_curve(y_test, xgb_class.predict_proba(X_testsc)[:,1])"
   ]
  },
  {
   "cell_type": "markdown",
   "id": "304646d7",
   "metadata": {},
   "source": [
    "## ROC Curve for Banking Churn"
   ]
  },
  {
   "cell_type": "code",
   "execution_count": 109,
   "id": "86b4a897",
   "metadata": {},
   "outputs": [
    {
     "data": {
      "image/png": "[encoded data removed]",
      "text/plain": [
       "<Figure size 640x480 with 1 Axes>"
      ]
     },
     "metadata": {
      "needs_background": "light"
     },
     "output_type": "display_data"
    }
   ],
   "source": [
    "plt.figure(figsize=(8, 6), dpi=80)\n",
    "plt.plot(fpr_dum, tpr_dum,lw=2, c= 'gray',label = \"Dummy ROC (area ={:.2f})\".format(roc_auc_score(y_test, dummy_class.predict_proba(X_testsc)[:,1])))\n",
    "plt.plot(fpr_knn, tpr_knn,lw=2, c='orange', label = \"K-Nearest ROC (area ={:.2f})\".format(roc_auc_score(y_test, knn.predict_proba(X_testsc)[:,1])))\n",
    "plt.plot(fpr_lr, tpr_lr,lw=2, c='cyan',label = \"Logistic Regression (area ={:.2f})\".format(roc_auc_score(y_test, lr.predict_proba(X_testsc)[:,1])))\n",
    "plt.plot(fpr_dc, tpr_dc,lw=2, c='red', label = \"Decision Tree (area ={:.2f})\".format(roc_auc_score(y_test, dc.predict_proba(X_testsc)[:,1])))\n",
    "plt.plot(fpr_rf, tpr_rf,lw=2, c='green',label = \"Random Forest (area ={:.2f})\".format(roc_auc_score(y_test, rf.predict_proba(X_testsc)[:,1])))\n",
    "plt.plot(fpr_xgb, tpr_xgb,lw=2, c='blue',label = \"Extreme Gradient Boost (area ={:.2f})\".format(roc_auc_score(y_test, xgb_class.predict_proba(X_testsc)[:,1])))\n",
    "plt.xlim([-0.05,1.05])\n",
    "plt.ylim([-0.05,1.05])\n",
    "\n",
    "\n",
    "plt.xlabel('False Positive Rate')\n",
    "plt.ylabel('True Positive Rate')\n",
    "plt.title('ROC Curve for Bank Churn');\n",
    "plt.legend(loc='lower right')\n",
    "plt.savefig(\"ROC Curve.png\")"
   ]
  },
  {
   "cell_type": "code",
   "execution_count": 110,
   "id": "b0be24a6",
   "metadata": {},
   "outputs": [
    {
     "name": "stdout",
     "output_type": "stream",
     "text": [
      "Log-loss on dummy: 0.5052\n",
      "Log-loss on knn: 0.5401\n",
      "Log-loss on logit: 0.4280\n",
      "Log-loss on dc: 0.3921\n",
      "Log-loss on rf: 0.3748\n",
      "Log-loss on xgb: 0.3403\n"
     ]
    }
   ],
   "source": [
    "print(\"Log-loss on dummy: {:6.4f}\".format(log_loss(y_test, dummy_class.predict_proba(X_testsc))))\n",
    "print(\"Log-loss on knn: {:6.4f}\".format(log_loss(y_test, knn.predict_proba(X_testsc))))\n",
    "print(\"Log-loss on logit: {:6.4f}\".format(log_loss(y_test, lr.predict_proba(X_testsc))))\n",
    "print(\"Log-loss on dc: {:6.4f}\".format(log_loss(y_test, dc.predict_proba(X_testsc))))\n",
    "print(\"Log-loss on rf: {:6.4f}\".format(log_loss(y_test, rf.predict_proba(X_testsc))))\n",
    "print(\"Log-loss on xgb: {:6.4f}\".format(log_loss(y_test, xgb_class.predict_proba(X_testsc))))"
   ]
  },
  {
   "cell_type": "markdown",
   "id": "136850cb",
   "metadata": {},
   "source": [
    "## Thresholding Analysis"
   ]
  },
  {
   "cell_type": "markdown",
   "id": "64cf0ef5",
   "metadata": {},
   "source": [
    "Merge balance and customerid back to the partitioned test data for analysis"
   ]
  },
  {
   "cell_type": "code",
   "execution_count": 138,
   "id": "2f280257",
   "metadata": {},
   "outputs": [],
   "source": [
    "X_test_result = X_test.reset_index()\n",
    "X_test_result = X_test_result.merge(df[['Balance','CustomerId']], how='left', left_on=\"RowNumber\", right_on=\"RowNumber\")"
   ]
  },
  {
   "cell_type": "markdown",
   "id": "ecf2e2a6",
   "metadata": {},
   "source": [
    "Concatnate the predicted probabilities from the XGboost model to the test results"
   ]
  },
  {
   "cell_type": "code",
   "execution_count": 139,
   "id": "7277f71b",
   "metadata": {},
   "outputs": [],
   "source": [
    "xgb_pred = pd.Series(xgb_class.predict_proba(X_testsc)[:,1], name='Pred')\n",
    "X_test_result = pd.concat([X_test_result,xgb_pred],axis=1, ignore_index = False)"
   ]
  },
  {
   "cell_type": "markdown",
   "id": "4b4f8334",
   "metadata": {},
   "source": [
    "Merge the target variable back with the test data"
   ]
  },
  {
   "cell_type": "code",
   "execution_count": 140,
   "id": "b2f4799a",
   "metadata": {},
   "outputs": [],
   "source": [
    "X_test_result = X_test_result.merge(y_test, how='left', left_on=\"RowNumber\", right_on=\"RowNumber\")"
   ]
  },
  {
   "cell_type": "markdown",
   "id": "e54d21af",
   "metadata": {},
   "source": [
    "Bin the test results in probability ranges based of the resultant predicted probabilites"
   ]
  },
  {
   "cell_type": "code",
   "execution_count": 144,
   "id": "98e05d97",
   "metadata": {
    "scrolled": true
   },
   "outputs": [
    {
     "data": {
      "text/html": [
       "<div>\n",
       "<style scoped>\n",
       "    .dataframe tbody tr th:only-of-type {\n",
       "        vertical-align: middle;\n",
       "    }\n",
       "\n",
       "    .dataframe tbody tr th {\n",
       "        vertical-align: top;\n",
       "    }\n",
       "\n",
       "    .dataframe thead th {\n",
       "        text-align: right;\n",
       "    }\n",
       "</style>\n",
       "<table border=\"1\" class=\"dataframe\">\n",
       "  <thead>\n",
       "    <tr style=\"text-align: right;\">\n",
       "      <th></th>\n",
       "      <th>RowNumber</th>\n",
       "      <th>CreditScore</th>\n",
       "      <th>Age</th>\n",
       "      <th>Tenure</th>\n",
       "      <th>NumOfProducts</th>\n",
       "      <th>HasCrCard</th>\n",
       "      <th>IsActiveMember</th>\n",
       "      <th>EstimatedSalary</th>\n",
       "      <th>Male</th>\n",
       "      <th>Germany</th>\n",
       "      <th>Spain</th>\n",
       "      <th>Mid</th>\n",
       "      <th>Zero</th>\n",
       "      <th>Balance</th>\n",
       "      <th>CustomerId</th>\n",
       "      <th>Pred</th>\n",
       "      <th>Exited</th>\n",
       "      <th>binned</th>\n",
       "    </tr>\n",
       "  </thead>\n",
       "  <tbody>\n",
       "    <tr>\n",
       "      <th>0</th>\n",
       "      <td>4440</td>\n",
       "      <td>613</td>\n",
       "      <td>21</td>\n",
       "      <td>7</td>\n",
       "      <td>1</td>\n",
       "      <td>1</td>\n",
       "      <td>1</td>\n",
       "      <td>36560.51</td>\n",
       "      <td>0</td>\n",
       "      <td>0</td>\n",
       "      <td>0</td>\n",
       "      <td>1</td>\n",
       "      <td>0</td>\n",
       "      <td>105627.95</td>\n",
       "      <td>15696539</td>\n",
       "      <td>0.034348</td>\n",
       "      <td>0</td>\n",
       "      <td>(0.0, 0.1]</td>\n",
       "    </tr>\n",
       "    <tr>\n",
       "      <th>1</th>\n",
       "      <td>1372</td>\n",
       "      <td>611</td>\n",
       "      <td>43</td>\n",
       "      <td>8</td>\n",
       "      <td>1</td>\n",
       "      <td>1</td>\n",
       "      <td>0</td>\n",
       "      <td>114996.33</td>\n",
       "      <td>0</td>\n",
       "      <td>0</td>\n",
       "      <td>0</td>\n",
       "      <td>1</td>\n",
       "      <td>0</td>\n",
       "      <td>64897.75</td>\n",
       "      <td>15792722</td>\n",
       "      <td>0.397863</td>\n",
       "      <td>0</td>\n",
       "      <td>(0.3, 0.4]</td>\n",
       "    </tr>\n",
       "    <tr>\n",
       "      <th>2</th>\n",
       "      <td>5600</td>\n",
       "      <td>579</td>\n",
       "      <td>50</td>\n",
       "      <td>5</td>\n",
       "      <td>1</td>\n",
       "      <td>0</td>\n",
       "      <td>1</td>\n",
       "      <td>192146.63</td>\n",
       "      <td>0</td>\n",
       "      <td>1</td>\n",
       "      <td>0</td>\n",
       "      <td>1</td>\n",
       "      <td>0</td>\n",
       "      <td>117721.02</td>\n",
       "      <td>15635870</td>\n",
       "      <td>0.809166</td>\n",
       "      <td>1</td>\n",
       "      <td>(0.8, 0.9]</td>\n",
       "    </tr>\n",
       "    <tr>\n",
       "      <th>3</th>\n",
       "      <td>5313</td>\n",
       "      <td>712</td>\n",
       "      <td>48</td>\n",
       "      <td>8</td>\n",
       "      <td>2</td>\n",
       "      <td>1</td>\n",
       "      <td>0</td>\n",
       "      <td>183235.33</td>\n",
       "      <td>0</td>\n",
       "      <td>0</td>\n",
       "      <td>1</td>\n",
       "      <td>0</td>\n",
       "      <td>1</td>\n",
       "      <td>0.00</td>\n",
       "      <td>15726178</td>\n",
       "      <td>0.154138</td>\n",
       "      <td>0</td>\n",
       "      <td>(0.1, 0.2]</td>\n",
       "    </tr>\n",
       "    <tr>\n",
       "      <th>4</th>\n",
       "      <td>8755</td>\n",
       "      <td>776</td>\n",
       "      <td>43</td>\n",
       "      <td>4</td>\n",
       "      <td>2</td>\n",
       "      <td>0</td>\n",
       "      <td>1</td>\n",
       "      <td>162137.50</td>\n",
       "      <td>0</td>\n",
       "      <td>0</td>\n",
       "      <td>0</td>\n",
       "      <td>0</td>\n",
       "      <td>1</td>\n",
       "      <td>0.00</td>\n",
       "      <td>15619045</td>\n",
       "      <td>0.074827</td>\n",
       "      <td>0</td>\n",
       "      <td>(0.0, 0.1]</td>\n",
       "    </tr>\n",
       "  </tbody>\n",
       "</table>\n",
       "</div>"
      ],
      "text/plain": [
       "   RowNumber  CreditScore  Age  Tenure  NumOfProducts  HasCrCard  \\\n",
       "0       4440          613   21       7              1          1   \n",
       "1       1372          611   43       8              1          1   \n",
       "2       5600          579   50       5              1          0   \n",
       "3       5313          712   48       8              2          1   \n",
       "4       8755          776   43       4              2          0   \n",
       "\n",
       "   IsActiveMember  EstimatedSalary  Male  Germany  Spain  Mid  Zero  \\\n",
       "0               1         36560.51     0        0      0    1     0   \n",
       "1               0        114996.33     0        0      0    1     0   \n",
       "2               1        192146.63     0        1      0    1     0   \n",
       "3               0        183235.33     0        0      1    0     1   \n",
       "4               1        162137.50     0        0      0    0     1   \n",
       "\n",
       "     Balance  CustomerId      Pred  Exited      binned  \n",
       "0  105627.95    15696539  0.034348       0  (0.0, 0.1]  \n",
       "1   64897.75    15792722  0.397863       0  (0.3, 0.4]  \n",
       "2  117721.02    15635870  0.809166       1  (0.8, 0.9]  \n",
       "3       0.00    15726178  0.154138       0  (0.1, 0.2]  \n",
       "4       0.00    15619045  0.074827       0  (0.0, 0.1]  "
      ]
     },
     "execution_count": 144,
     "metadata": {},
     "output_type": "execute_result"
    }
   ],
   "source": [
    "bins = [0, .1, .2, .3, .4, .5, .6, .7, .8, .9, 1]\n",
    "X_test_result['binned'] = pd.cut(X_test_result['Pred'], bins)\n",
    "X_test_result.head()"
   ]
  },
  {
   "cell_type": "markdown",
   "id": "2f56cebe",
   "metadata": {},
   "source": [
    "Structure data for Predicted Probability vs. Event Rate by Probability Decile chart"
   ]
  },
  {
   "cell_type": "code",
   "execution_count": 135,
   "id": "1952f684",
   "metadata": {
    "scrolled": true
   },
   "outputs": [
    {
     "data": {
      "text/plain": [
       "0    0.043732\n",
       "1    0.155440\n",
       "2    0.306452\n",
       "3    0.388889\n",
       "4    0.434783\n",
       "5    0.617021\n",
       "6    0.609756\n",
       "7    0.844444\n",
       "8    0.837838\n",
       "9    0.961538\n",
       "Name: Exited, dtype: float64"
      ]
     },
     "execution_count": 135,
     "metadata": {},
     "output_type": "execute_result"
    }
   ],
   "source": [
    "Event_Rate= X_test_res.groupby('binned',as_index=False)['Exited'].mean() #Percent of postitive class\n",
    "Avg_Prob = X_test_res.groupby('binned', as_index=False)['Pred'].mean()  #Average Predicted Probability\n",
    "Event_Rate.iloc[:,1]"
   ]
  },
  {
   "cell_type": "code",
   "execution_count": 136,
   "id": "598f9747",
   "metadata": {},
   "outputs": [
    {
     "data": {
      "text/plain": [
       "0    0.047747\n",
       "1    0.144220\n",
       "2    0.248879\n",
       "3    0.349902\n",
       "4    0.452018\n",
       "5    0.553816\n",
       "6    0.649263\n",
       "7    0.744031\n",
       "8    0.854457\n",
       "9    0.956892\n",
       "Name: Pred, dtype: float32"
      ]
     },
     "execution_count": 136,
     "metadata": {},
     "output_type": "execute_result"
    }
   ],
   "source": [
    "Avg_Prob.iloc[:,1]"
   ]
  },
  {
   "cell_type": "markdown",
   "id": "a31ef6b5",
   "metadata": {},
   "source": [
    "Investigate customers with high probability to churn and large account balances"
   ]
  },
  {
   "cell_type": "code",
   "execution_count": 141,
   "id": "dcdead9e",
   "metadata": {},
   "outputs": [],
   "source": [
    "X_result = X_test_result[X_test_result['Pred']>0.9].sort_values(['Pred','Balance'], ascending = False)"
   ]
  },
  {
   "cell_type": "code",
   "execution_count": 142,
   "id": "85ccedfe",
   "metadata": {},
   "outputs": [
    {
     "data": {
      "text/html": [
       "<div>\n",
       "<style scoped>\n",
       "    .dataframe tbody tr th:only-of-type {\n",
       "        vertical-align: middle;\n",
       "    }\n",
       "\n",
       "    .dataframe tbody tr th {\n",
       "        vertical-align: top;\n",
       "    }\n",
       "\n",
       "    .dataframe thead th {\n",
       "        text-align: right;\n",
       "    }\n",
       "</style>\n",
       "<table border=\"1\" class=\"dataframe\">\n",
       "  <thead>\n",
       "    <tr style=\"text-align: right;\">\n",
       "      <th></th>\n",
       "      <th>RowNumber</th>\n",
       "      <th>CreditScore</th>\n",
       "      <th>Age</th>\n",
       "      <th>Tenure</th>\n",
       "      <th>NumOfProducts</th>\n",
       "      <th>HasCrCard</th>\n",
       "      <th>IsActiveMember</th>\n",
       "      <th>EstimatedSalary</th>\n",
       "      <th>Male</th>\n",
       "      <th>Germany</th>\n",
       "      <th>Spain</th>\n",
       "      <th>Mid</th>\n",
       "      <th>Zero</th>\n",
       "      <th>Balance</th>\n",
       "      <th>CustomerId</th>\n",
       "      <th>Pred</th>\n",
       "      <th>Exited</th>\n",
       "    </tr>\n",
       "  </thead>\n",
       "  <tbody>\n",
       "    <tr>\n",
       "      <th>74</th>\n",
       "      <td>2615</td>\n",
       "      <td>546</td>\n",
       "      <td>58</td>\n",
       "      <td>3</td>\n",
       "      <td>4</td>\n",
       "      <td>1</td>\n",
       "      <td>0</td>\n",
       "      <td>128881.87</td>\n",
       "      <td>0</td>\n",
       "      <td>1</td>\n",
       "      <td>0</td>\n",
       "      <td>1</td>\n",
       "      <td>0</td>\n",
       "      <td>106458.31</td>\n",
       "      <td>15640846</td>\n",
       "      <td>0.995631</td>\n",
       "      <td>1</td>\n",
       "    </tr>\n",
       "    <tr>\n",
       "      <th>407</th>\n",
       "      <td>6832</td>\n",
       "      <td>469</td>\n",
       "      <td>52</td>\n",
       "      <td>8</td>\n",
       "      <td>3</td>\n",
       "      <td>0</td>\n",
       "      <td>0</td>\n",
       "      <td>150093.32</td>\n",
       "      <td>0</td>\n",
       "      <td>1</td>\n",
       "      <td>0</td>\n",
       "      <td>0</td>\n",
       "      <td>0</td>\n",
       "      <td>139493.25</td>\n",
       "      <td>15696989</td>\n",
       "      <td>0.994855</td>\n",
       "      <td>1</td>\n",
       "    </tr>\n",
       "    <tr>\n",
       "      <th>1893</th>\n",
       "      <td>6256</td>\n",
       "      <td>547</td>\n",
       "      <td>55</td>\n",
       "      <td>4</td>\n",
       "      <td>3</td>\n",
       "      <td>1</td>\n",
       "      <td>0</td>\n",
       "      <td>16922.28</td>\n",
       "      <td>1</td>\n",
       "      <td>1</td>\n",
       "      <td>0</td>\n",
       "      <td>1</td>\n",
       "      <td>0</td>\n",
       "      <td>111362.76</td>\n",
       "      <td>15589017</td>\n",
       "      <td>0.993642</td>\n",
       "      <td>1</td>\n",
       "    </tr>\n",
       "    <tr>\n",
       "      <th>1164</th>\n",
       "      <td>1006</td>\n",
       "      <td>521</td>\n",
       "      <td>52</td>\n",
       "      <td>5</td>\n",
       "      <td>3</td>\n",
       "      <td>0</td>\n",
       "      <td>0</td>\n",
       "      <td>53793.10</td>\n",
       "      <td>1</td>\n",
       "      <td>1</td>\n",
       "      <td>0</td>\n",
       "      <td>1</td>\n",
       "      <td>0</td>\n",
       "      <td>116497.31</td>\n",
       "      <td>15701602</td>\n",
       "      <td>0.992429</td>\n",
       "      <td>1</td>\n",
       "    </tr>\n",
       "    <tr>\n",
       "      <th>1754</th>\n",
       "      <td>7534</td>\n",
       "      <td>630</td>\n",
       "      <td>51</td>\n",
       "      <td>0</td>\n",
       "      <td>3</td>\n",
       "      <td>0</td>\n",
       "      <td>0</td>\n",
       "      <td>88372.69</td>\n",
       "      <td>0</td>\n",
       "      <td>1</td>\n",
       "      <td>0</td>\n",
       "      <td>1</td>\n",
       "      <td>0</td>\n",
       "      <td>108449.23</td>\n",
       "      <td>15592773</td>\n",
       "      <td>0.990982</td>\n",
       "      <td>1</td>\n",
       "    </tr>\n",
       "  </tbody>\n",
       "</table>\n",
       "</div>"
      ],
      "text/plain": [
       "      RowNumber  CreditScore  Age  Tenure  NumOfProducts  HasCrCard  \\\n",
       "74         2615          546   58       3              4          1   \n",
       "407        6832          469   52       8              3          0   \n",
       "1893       6256          547   55       4              3          1   \n",
       "1164       1006          521   52       5              3          0   \n",
       "1754       7534          630   51       0              3          0   \n",
       "\n",
       "      IsActiveMember  EstimatedSalary  Male  Germany  Spain  Mid  Zero  \\\n",
       "74                 0        128881.87     0        1      0    1     0   \n",
       "407                0        150093.32     0        1      0    0     0   \n",
       "1893               0         16922.28     1        1      0    1     0   \n",
       "1164               0         53793.10     1        1      0    1     0   \n",
       "1754               0         88372.69     0        1      0    1     0   \n",
       "\n",
       "        Balance  CustomerId      Pred  Exited  \n",
       "74    106458.31    15640846  0.995631       1  \n",
       "407   139493.25    15696989  0.994855       1  \n",
       "1893  111362.76    15589017  0.993642       1  \n",
       "1164  116497.31    15701602  0.992429       1  \n",
       "1754  108449.23    15592773  0.990982       1  "
      ]
     },
     "execution_count": 142,
     "metadata": {},
     "output_type": "execute_result"
    }
   ],
   "source": [
    "X_result.head()"
   ]
  },
  {
   "cell_type": "markdown",
   "id": "5099d93c",
   "metadata": {},
   "source": [
    "## Cost Modeling"
   ]
  },
  {
   "cell_type": "markdown",
   "id": "d62b798b",
   "metadata": {},
   "source": [
    "Using the baseline confusion matrix a cost can be associated with either approach. Assume everyone churns or assume no one churns. It is assumed that there is a $150 cost to retain a customer that is predicted to churn (True Positives+False Positives) and $750 to acquire a new customer (False Negatives). Additionally, True Postives are considered to have a saving of $750 because a customer is successfully retained."
   ]
  },
  {
   "cell_type": "code",
   "execution_count": 145,
   "id": "33f42aee",
   "metadata": {},
   "outputs": [
    {
     "name": "stdout",
     "output_type": "stream",
     "text": [
      "5250\n"
     ]
    },
    {
     "data": {
      "text/plain": [
       "array([[   0, 1593],\n",
       "       [   0,  407]])"
      ]
     },
     "execution_count": 145,
     "metadata": {},
     "output_type": "execute_result"
    }
   ],
   "source": [
    "#Assume everyone churns\n",
    "\n",
    "new_pred_ones = np.ones(shape=(2000,))\n",
    "\n",
    "conf = confusion_matrix(y_test, new_pred_ones)\n",
    "\n",
    "total_cost = (conf[0,1] * 150) + (conf[1,1] * 150) + conf[1,0] * 750\n",
    "total_savings = conf[1,1] * 750\n",
    "\n",
    "net_gain = total_savings - total_cost\n",
    "print(net_gain)\n",
    "\n",
    "conf"
   ]
  },
  {
   "cell_type": "code",
   "execution_count": 96,
   "id": "32115975",
   "metadata": {},
   "outputs": [
    {
     "name": "stdout",
     "output_type": "stream",
     "text": [
      "-305250\n"
     ]
    },
    {
     "data": {
      "text/plain": [
       "array([[1593,    0],\n",
       "       [ 407,    0]])"
      ]
     },
     "execution_count": 96,
     "metadata": {},
     "output_type": "execute_result"
    }
   ],
   "source": [
    "#Assume no one churns\n",
    "\n",
    "new_pred_zeros = np.zeros(shape=(2000,))\n",
    "\n",
    "conf = confusion_matrix(y_test, new_pred_zeros)\n",
    "\n",
    "total_cost = (conf[0,1] * 150) + (conf[1,1] * 150) + conf[1,0] * 750\n",
    "total_savings = conf[1,1] * 750\n",
    "\n",
    "net_gain = total_savings - total_cost\n",
    "print(net_gain)\n",
    "\n",
    "conf\n"
   ]
  },
  {
   "cell_type": "markdown",
   "id": "87db7e03",
   "metadata": {},
   "source": [
    "Every classification model is sent into the function below and a cost is associated with every probability threshold. A max saving can be found to determine the best classification model."
   ]
  },
  {
   "cell_type": "code",
   "execution_count": 97,
   "id": "e019e286",
   "metadata": {},
   "outputs": [],
   "source": [
    "def model_cost(model):\n",
    "\n",
    "    savings = []\n",
    "    idx = []\n",
    "    for i in np.arange(0,1,0.01):\n",
    "        y_predict = (model.predict_proba(X_testsc)[:, 1] >= i)\n",
    "        cf_matrix = confusion_matrix(y_test, y_predict)\n",
    "        total_cost = (cf_matrix[0][1] * 150) + (cf_matrix[1][1] * 150) + cf_matrix[1][0] * 750\n",
    "        total_savings = cf_matrix[1][1] * 750\n",
    "        savings.append(total_savings - total_cost)\n",
    "        idx.append(i)\n",
    "\n",
    "    print('Max savings = {:d}'.format(max(savings)))\n",
    "    return (savings,idx)"
   ]
  },
  {
   "cell_type": "code",
   "execution_count": 146,
   "id": "f3d5e67c",
   "metadata": {},
   "outputs": [
    {
     "name": "stdout",
     "output_type": "stream",
     "text": [
      "Max savings = 5250\n"
     ]
    }
   ],
   "source": [
    "#Baseline Model\n",
    "dum_savings,dum_idx = model_cost(dummy_class)"
   ]
  },
  {
   "cell_type": "code",
   "execution_count": 147,
   "id": "6f2da59b",
   "metadata": {},
   "outputs": [
    {
     "name": "stdout",
     "output_type": "stream",
     "text": [
      "Max savings = 55800\n"
     ]
    }
   ],
   "source": [
    "#K-nearest\n",
    "knn_savings,knn_idx = model_cost(knn)"
   ]
  },
  {
   "cell_type": "code",
   "execution_count": 100,
   "id": "8b417fea",
   "metadata": {
    "scrolled": true
   },
   "outputs": [
    {
     "name": "stdout",
     "output_type": "stream",
     "text": [
      "Max savings = 48450\n"
     ]
    }
   ],
   "source": [
    "#Logistic Regression\n",
    "lr_savings,lr_idx = model_cost(lr)"
   ]
  },
  {
   "cell_type": "code",
   "execution_count": 101,
   "id": "4ea2cb49",
   "metadata": {},
   "outputs": [
    {
     "name": "stdout",
     "output_type": "stream",
     "text": [
      "Max savings = 69750\n"
     ]
    }
   ],
   "source": [
    "#Decision Tree\n",
    "dc_savings,dc_idx = model_cost(dc)"
   ]
  },
  {
   "cell_type": "code",
   "execution_count": 102,
   "id": "0cfb9aab",
   "metadata": {
    "scrolled": false
   },
   "outputs": [
    {
     "name": "stdout",
     "output_type": "stream",
     "text": [
      "Max savings = 77700\n"
     ]
    }
   ],
   "source": [
    "#Random Forest\n",
    "rf_savings,rf_idx = model_cost(rf)"
   ]
  },
  {
   "cell_type": "code",
   "execution_count": 103,
   "id": "099ddcbb",
   "metadata": {
    "scrolled": true
   },
   "outputs": [
    {
     "name": "stdout",
     "output_type": "stream",
     "text": [
      "Max savings = 92100\n"
     ]
    }
   ],
   "source": [
    "#XG Boost\n",
    "xgb_savings,xgb_idx = model_cost(xgb_class)"
   ]
  },
  {
   "cell_type": "markdown",
   "id": "6d789dc4",
   "metadata": {},
   "source": [
    "Threshold of the max saving of the XG Boost model"
   ]
  },
  {
   "cell_type": "code",
   "execution_count": 150,
   "id": "444fe09e",
   "metadata": {},
   "outputs": [
    {
     "data": {
      "text/html": [
       "<div>\n",
       "<style scoped>\n",
       "    .dataframe tbody tr th:only-of-type {\n",
       "        vertical-align: middle;\n",
       "    }\n",
       "\n",
       "    .dataframe tbody tr th {\n",
       "        vertical-align: top;\n",
       "    }\n",
       "\n",
       "    .dataframe thead th {\n",
       "        text-align: right;\n",
       "    }\n",
       "</style>\n",
       "<table border=\"1\" class=\"dataframe\">\n",
       "  <thead>\n",
       "    <tr style=\"text-align: right;\">\n",
       "      <th></th>\n",
       "      <th>saving/loss</th>\n",
       "      <th>thresh</th>\n",
       "    </tr>\n",
       "  </thead>\n",
       "  <tbody>\n",
       "    <tr>\n",
       "      <th>10</th>\n",
       "      <td>92100</td>\n",
       "      <td>0.1</td>\n",
       "    </tr>\n",
       "  </tbody>\n",
       "</table>\n",
       "</div>"
      ],
      "text/plain": [
       "    saving/loss  thresh\n",
       "10        92100     0.1"
      ]
     },
     "execution_count": 150,
     "metadata": {},
     "output_type": "execute_result"
    }
   ],
   "source": [
    "res_list = list(zip(xgb_savings,xgb_idx))\n",
    "res_df = pd.DataFrame(res_list, columns =['saving/loss', 'thresh'])\n",
    "res_df[res_df['saving/loss']==max(res_df['saving/loss'])]"
   ]
  },
  {
   "cell_type": "code",
   "execution_count": 105,
   "id": "1a7509cd",
   "metadata": {},
   "outputs": [],
   "source": [
    "def make_confusion_matrix(model, threshold=0.1):\n",
    "    # Predict class 1 if probability of being in class 1 is greater than threshold\n",
    "    # (model.predict(X_val) does this automatically with a threshold of 0.5)\n",
    "    y_predict = (model.predict_proba(X_testsc)[:, 1] >= threshold)\n",
    "    exited_confusion = confusion_matrix(y_test, y_predict)\n",
    "    plt.figure(dpi=80)\n",
    "    sns.heatmap(exited_confusion, cmap=\"Greens\", annot=True, square=True, fmt='d',\n",
    "           xticklabels=['Retained', 'Exited'],\n",
    "           yticklabels=['Retained', 'Exited']);\n",
    "    plt.title('XG Boost Confusion Matrix');\n",
    "    plt.xlabel('Prediction')\n",
    "    plt.ylabel('Actual')"
   ]
  },
  {
   "cell_type": "code",
   "execution_count": 106,
   "id": "f61ea59c",
   "metadata": {},
   "outputs": [
    {
     "data": {
      "image/png": "[encoded data removed]",
      "text/plain": [
       "<Figure size 480x320 with 2 Axes>"
      ]
     },
     "metadata": {
      "needs_background": "light"
     },
     "output_type": "display_data"
    }
   ],
   "source": [
    "make_confusion_matrix(xgb_class)"
   ]
  },
  {
   "cell_type": "markdown",
   "id": "ea5c34cd",
   "metadata": {},
   "source": [
    "Cost analysis of each model showing the saving or loss versus the probability threshold. To maximize savings the XG Boost model at a threshold of 10% will yeild the highest saving."
   ]
  },
  {
   "cell_type": "code",
   "execution_count": 108,
   "id": "725dffe5",
   "metadata": {},
   "outputs": [
    {
     "data": {
      "image/png": "[encoded data removed]",
      "text/plain": [
       "<Figure size 1440x1080 with 1 Axes>"
      ]
     },
     "metadata": {
      "needs_background": "light"
     },
     "output_type": "display_data"
    }
   ],
   "source": [
    "fig, ax = plt.subplots(figsize=(20, 15))\n",
    "# plt.plot(dum_idx, dum_gains, label='Logistic Regression', color='purple', lw=2)\n",
    "plt.plot(knn_idx, knn_savings, label='K Nearest (Max Savings: ${:,})'.format(max(knn_savings)), color='orange', lw=2)\n",
    "plt.plot(lr_idx, lr_savings, label='Logistic Regression (Max Savings: ${:,})'.format(max(lr_savings)), color='cyan', lw=2)\n",
    "plt.plot(dc_idx, dc_savings, label='Decision Tree (Max Savings: ${:,})'.format(max(dc_savings)), color='red', lw=2)\n",
    "plt.plot(rf_idx, rf_savings, label='Random Forest (Max Savings: ${:,})'.format(max(rf_savings)), color='green', lw=2)\n",
    "plt.plot(xgb_idx, xgb_savings, label='XG Boost (Max Savings: ${:,})'.format(max(xgb_savings)), color='blue', lw=2)\n",
    "ax.axhline(y=0, color='black')\n",
    "plt.grid()\n",
    "ax.set_xbound(lower=0, upper=0.5)\n",
    "ax.set_ybound(lower=-150000, upper=100000)\n",
    "ax.set_yticklabels( ['-$150K','-$100k','-$50k', '$0', '$50k', '$100k'], fontsize=24)\n",
    "ax.set_xticklabels(['0', '0.1', '0.2', '0.3', '0.4', '0.5'], fontsize=24)\n",
    "plt.xlabel('Probability Threshold', fontsize=30)\n",
    "plt.ylabel('Dollars Saved or Lost',fontsize=30)\n",
    "plt.legend(fontsize=18)\n",
    "plt.title('Cost Analysis',fontsize=30);\n",
    "plt.savefig('Cost_Analysis.png')"
   ]
  }
 ],
 "metadata": {
  "kernelspec": {
   "display_name": "Python [conda env:metis]",
   "language": "python",
   "name": "conda-env-metis-py"
  },
  "language_info": {
   "codemirror_mode": {
    "name": "ipython",
    "version": 3
   },
   "file_extension": ".py",
   "mimetype": "text/x-python",
   "name": "python",
   "nbconvert_exporter": "python",
   "pygments_lexer": "ipython3",
   "version": "3.9.7"
  }
 },
 "nbformat": 4,
 "nbformat_minor": 5
}
